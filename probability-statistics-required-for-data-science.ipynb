{
 "cells": [
  {
   "cell_type": "markdown",
   "id": "da8fa7ea",
   "metadata": {
    "id": "jMyV6GDJCLaU",
    "papermill": {
     "duration": 0.013334,
     "end_time": "2024-08-25T13:10:03.786467",
     "exception": false,
     "start_time": "2024-08-25T13:10:03.773133",
     "status": "completed"
    },
    "tags": []
   },
   "source": [
    "# Basic concept"
   ]
  },
  {
   "cell_type": "markdown",
   "id": "07c2c27b",
   "metadata": {
    "id": "vF8G0NLKA4Wq",
    "papermill": {
     "duration": 0.012177,
     "end_time": "2024-08-25T13:10:03.811618",
     "exception": false,
     "start_time": "2024-08-25T13:10:03.799441",
     "status": "completed"
    },
    "tags": []
   },
   "source": [
    "\n",
    "In the world, all cases are uncertain. Probability helps us measure the uncertainties and make better decisions.\n",
    "\n",
    "Probability tells us how likely a particular event is to occur. For example:\n",
    "\n",
    "- If you flip a coin, the probability of getting \"heads\" is 50% (because there are two possible outcomes: \"heads\" or \"tails\").\n",
    "\n",
    "- If you roll a dice, the probability of getting the number 3 is 1 out of 6 (because there are 6 possible outcomes: 1, 2, 3, 4, 5, 6).\n",
    "\n",
    "$$\n",
    "P(A) = \\frac{\\text{ The number of occurrences of A }}{\\text{ Total number of possible outcomes  }}\n",
    "$$\n",
    "\n",
    "Probability helps us measure the likelihood of uncertain events and make more informed decisions.\n",
    "\n",
    "\n",
    "\n",
    "Some key terms:\n",
    "\n",
    "**Sample Space**\n",
    "\n",
    "The sample space (usually denoted by the symbol Ω) is the set of all possible outcomes that can result from a random experiment. The sample space includes all possible outcomes and helps us calculate the probability of events.\n",
    "\n",
    "**Event**\n",
    "\n",
    "An event is a set of outcomes that can include one or more outcomes. Events can be defined as:\n",
    "\n",
    "  - Simple event: An event that includes only one outcome. For example, in flipping a coin, the event \"heads\" is a simple event.\n",
    "  - Compound event: An event that includes multiple outcomes. For example, in flipping two coins, the event \"at least one heads\" includes the outcomes {HH, HT, TH}.\n",
    "\n",
    "**Sample Space**\n",
    "\n",
    "The sample space (usually denoted by the symbol Ω) is the set of all possible outcomes that can result from a random experiment. The sample space includes all possible outcomes and helps us calculate the probability of events.\n",
    "\n",
    "When we talk about random experiments with a very large or even infinite number of trials, calculating probability directly using the simple formula mentioned before may not work. In these cases, there are other concepts and methods to analyze and calculate probabilities. In such situations, it is necessary to use more advanced concepts and methods like the law of large numbers, probability distributions, Monte Carlo simulation, and conditional probability.\n",
    "\n",
    "\n",
    "\n",
    "Probability (P(A)):\n",
    "This can be defined as: It specifies the probability of an event occurring, based on the established rules.\n",
    "\n",
    "The Axioms of Probability refer to a set of fundamental rules that form the foundation of probability theory. These axioms help us analyze the behavior of probabilities in different situations.\n",
    "\n",
    "1. First Axiom: The probability of an event is non-negative\n",
    "\n",
    "For any event (A), its probability (denoted as P(A)) is always non-negative:\n",
    "\n",
    "$$\n",
    "[\n",
    "P(A) \\geq 0\n",
    "]\n",
    "$$\n",
    "\n",
    "2. Second Axiom: The probability of the entire sample space is 1\n",
    "\n",
    "If (S) is the sample space (the set of all possible outcomes), then the probability of the entire sample space is 1:\n",
    "\n",
    "$$\n",
    "[\n",
    "P(S) = 1\n",
    "]\n",
    "$$\n",
    "\n",
    "This axiom states that if you consider all the possible outcomes of a random experiment, the probability that one of these outcomes will certainly occur is equal to 1. This means that one of the possible outcomes must happen.\n",
    "\n",
    "3. Third Axiom: The probability of the union of two events\n",
    "\n",
    "If (A) and (B) are two events, then the probability of the occurrence of at least one of these two events (i.e., their union) is equal to the sum of their individual probabilities minus the probability of their intersection (if it exists):\n",
    "\n",
    "$$\n",
    "[\n",
    "P(A \\cup B) = P(A) + P(B) - P(A \\cap B)\n",
    "]\n",
    "$$\n",
    "\n",
    "If (A) and (B) are mutually exclusive events (i.e., they can never occur simultaneously), then:\n",
    "\n",
    "$$\n",
    "[\n",
    "P(A \\cup B) = P(A) + P(B)\n",
    "]\n",
    "$$\n",
    "\n",
    "Mutually exclusive events refer to events that cannot occur simultaneously.\n",
    "\n",
    "Two events (A) and (B) are mutually exclusive if:\n",
    "$$\n",
    "[\n",
    "P(A \\cap B) = 0\n",
    "]\n",
    "$$\n",
    "\n",
    "\n",
    "\n",
    "Let's assume we are flipping a coin. The sample space (S) for this experiment consists of two possible outcomes:\n",
    "\n",
    "$( S = { \\text{Heads}, \\text{Tails} } )$\n",
    "\n",
    "$[\n",
    "P(S) = P(\\text{Heads}) + P(\\text{Tails}) = 1\n",
    "]$\n",
    "\n",
    "Calculating the probability: If we assume that the coin is fair (i.e., the probabilities of Heads and Tails are equal), then:\n",
    "\n",
    "$[\n",
    "P(\\text{Heads}) = \\frac{1}{2} \\quad \\text{and} \\quad P(\\text{Tails}) = \\frac{1}{2}\n",
    "]$\n",
    "\n",
    "Therefore:\n",
    "\n",
    "$[\n",
    "P(S) = P(\\text{Heads}) + P(\\text{Tails}) = \\frac{1}{2} + \\frac{1}{2} = 1\n",
    "]$\n",
    "\n",
    "This shows that the sum of the probabilities of all possible outcomes in the sample space is always equal to 1."
   ]
  },
  {
   "cell_type": "code",
   "execution_count": 1,
   "id": "1c9c764c",
   "metadata": {
    "execution": {
     "iopub.execute_input": "2024-08-25T13:10:03.838830Z",
     "iopub.status.busy": "2024-08-25T13:10:03.838082Z",
     "iopub.status.idle": "2024-08-25T13:10:04.814665Z",
     "shell.execute_reply": "2024-08-25T13:10:04.813702Z"
    },
    "id": "pFx0DKeLBqem",
    "outputId": "8d5f734e-edff-4e78-ab38-aa969a58d14b",
    "papermill": {
     "duration": 0.993293,
     "end_time": "2024-08-25T13:10:04.817434",
     "exception": false,
     "start_time": "2024-08-25T13:10:03.824141",
     "status": "completed"
    },
    "tags": []
   },
   "outputs": [
    {
     "name": "stdout",
     "output_type": "stream",
     "text": [
      "Probability of getting Heads: 0.5\n",
      "Probability of getting Tails: 0.5\n",
      "Total probability: 1.0 (should be 1)\n",
      "Probability of getting a 3 on a dice roll: 0.16666666666666666\n",
      "Probability of event A: 0.16666666666666666\n",
      "Probability of event B: 0.6666666666666666\n",
      "Probability of A and B: 0.16666666666666666\n",
      "Probability of A or B: 0.6666666666666666\n",
      "Probability of getting 2 heads in 5 coin flips: 0.31249999999999983\n"
     ]
    }
   ],
   "source": [
    "import numpy as np\n",
    "from scipy.stats import binom\n",
    "\n",
    "# Coin Flip Example\n",
    "# Probability of getting \"Heads\"\n",
    "p_heads = 0.5\n",
    "p_tails = 0.5\n",
    "\n",
    "print(f\"Probability of getting Heads: {p_heads}\")\n",
    "print(f\"Probability of getting Tails: {p_tails}\")\n",
    "print(f\"Total probability: {p_heads + p_tails} (should be 1)\")\n",
    "\n",
    "# Dice Roll Example\n",
    "# Probability of getting a specific number (e.g., 3)\n",
    "p_dice = 1/6\n",
    "\n",
    "print(f\"Probability of getting a 3 on a dice roll: {p_dice}\")\n",
    "\n",
    "# Sample space and events\n",
    "sample_space = set([1, 2, 3, 4, 5, 6])\n",
    "event_A = {3}\n",
    "event_B = {1, 2, 3, 4}\n",
    "\n",
    "# Probability of events\n",
    "p_event_A = len(event_A) / len(sample_space)\n",
    "p_event_B = len(event_B) / len(sample_space)\n",
    "p_event_A_and_B = len(event_A.intersection(event_B)) / len(sample_space)\n",
    "p_event_A_or_B = p_event_A + p_event_B - p_event_A_and_B\n",
    "\n",
    "print(f\"Probability of event A: {p_event_A}\")\n",
    "print(f\"Probability of event B: {p_event_B}\")\n",
    "print(f\"Probability of A and B: {p_event_A_and_B}\")\n",
    "print(f\"Probability of A or B: {p_event_A_or_B}\")\n",
    "\n",
    "# Binomial Distribution\n",
    "# Probability of getting 2 heads in 5 coin flips\n",
    "n = 5\n",
    "k = 2\n",
    "p = 0.5\n",
    "binomial_prob = binom.pmf(k, n, p)\n",
    "print(f\"Probability of getting 2 heads in 5 coin flips: {binomial_prob}\")"
   ]
  },
  {
   "cell_type": "markdown",
   "id": "22510ade",
   "metadata": {
    "id": "sQW_7L2PCVcW",
    "papermill": {
     "duration": 0.012594,
     "end_time": "2024-08-25T13:10:04.846086",
     "exception": false,
     "start_time": "2024-08-25T13:10:04.833492",
     "status": "completed"
    },
    "tags": []
   },
   "source": [
    "\n",
    "\n",
    "```\n",
    "p_heads = 0.5\n",
    "p_tails = 0.5\n",
    "\n",
    "```\n",
    "It defines the probabilities of getting “Heads” and “Tails” when flipping a fair coin, both set to 0.5.\n",
    "\n",
    "\n",
    "\n",
    "```\n",
    "p_dice = 1/6\n",
    "\n",
    "```\n",
    "It defines the probability of rolling a specific number (e.g., 3) on a fair six-sided die, which is 1/6\n",
    "\n",
    "\n",
    "\n",
    "```\n",
    "sample_space = set([1, 2, 3, 4, 5, 6])\n",
    "event_A = {3}\n",
    "event_B = {1, 2, 3, 4}\n",
    "\n",
    "```\n",
    "\n",
    "\n",
    "It defines the sample space for a dice roll and two events: Event A (rolling a 3) and Event B (rolling a 1, 2, 3, or 4)\n",
    "\n",
    "\n",
    "\n",
    "```\n",
    "p_event_A = len(event_A) / len(sample_space)\n",
    "p_event_B = len(event_B) / len(sample_space)\n",
    "p_event_A_and_B = len(event_A.intersection(event_B)) / len(sample_space)\n",
    "p_event_A_or_B = p_event_A + p_event_B - p_event_A_and_B\n",
    "\n",
    "```\n",
    "It calculates the probabilities of Event A and Event B, the intersection of the two events (both A and B occurring), and the union of the two events (either A or B occurring).\n",
    "\n",
    "\n",
    "\n",
    "```\n",
    "n = 5\n",
    "k = 2\n",
    "p = 0.5\n",
    "binomial_prob = binom.pmf(k, n, p)\n",
    "\n",
    "```\n",
    "\n",
    "It sets parameters for a binomial distribution: n (number of trials, here 5 coin flips), k (number of successes, here 2 heads), and p (probability of success on each trial, here 0.5). It then calculates the probability of getting exactly 2 heads in 5 flips using the probability mass function (pmf) of the binomial distribution\n",
    "\n",
    "\n",
    "\n",
    "\n"
   ]
  },
  {
   "cell_type": "markdown",
   "id": "0dec1eb9",
   "metadata": {
    "id": "DRniee5tCOsn",
    "papermill": {
     "duration": 0.012308,
     "end_time": "2024-08-25T13:10:04.871121",
     "exception": false,
     "start_time": "2024-08-25T13:10:04.858813",
     "status": "completed"
    },
    "tags": []
   },
   "source": [
    "# Conditional probabilities"
   ]
  },
  {
   "cell_type": "markdown",
   "id": "90466147",
   "metadata": {
    "id": "V0j7UmHaCPe1",
    "papermill": {
     "duration": 0.012528,
     "end_time": "2024-08-25T13:10:04.896546",
     "exception": false,
     "start_time": "2024-08-25T13:10:04.884018",
     "status": "completed"
    },
    "tags": []
   },
   "source": [
    "Conditional probability tells us how likely it is for event (A) to occur, given that event (B) has already occurred.\n",
    "\n",
    "$$\n",
    "P(A | B) = \\frac{P(A \\cap B)}{P(B)}\n",
    "$$\n",
    "\n",
    "* $(P(A | B))$: The probability of event (A) occurring, given that event (B) has occurred.\n",
    "\n",
    "* $(P(A \\cap B))$: The probability of the joint occurrence of events (A) and (B).\n",
    "\n",
    "* $(P(B))$: The probability of event (B) occurring (which must be greater than zero).\n",
    "\n",
    "The formula shows that the conditional probability of (A) given (B) is equal to the probability of the intersection of (A) and (B), divided by the probability of (B). This provides a way to calculate the likelihood of one event occurring given the occurrence of another event.\n",
    "\n",
    "\n",
    "\n",
    "**Simple example: Coin and Dice**\n",
    "\n",
    "Suppose you have a coin and a dice. We want to calculate the probability that the coin lands on \"heads\" given that the dice has rolled a 3.\n",
    "\n",
    "Define the events:\n",
    "\n",
    "(A): The event \"the coin lands on heads\".\n",
    "\n",
    "(B): The event \"the dice rolls a 3\".\n",
    "\n",
    "Calculating the probabilities:\n",
    "\n",
    "\n",
    "The probability that the coin lands on heads:\n",
    "\n",
    "$\n",
    "P(A) = \\frac{1}{2} \\quad \\text{(because the coin has two sides: heads and tails)}\n",
    "$\n",
    "\n",
    "The probability that the dice rolls a 3:\n",
    "\n",
    "$\n",
    "P(B) = \\frac{1}{6} \\quad \\text{(because the dice has six numbers: 1 to 6)}\n",
    "$\n",
    "\n",
    "Now, the probability that the coin lands on heads and the dice rolls a 3 simultaneously:\n",
    "\n",
    "$\n",
    "P(A \\cap B) = P(A) \\times P(B) = \\frac{1}{2} \\times \\frac{1}{6} = \\frac{1}{12}\n",
    "$\n",
    "\n",
    "Calculating the conditional probability:\n",
    "\n",
    "Now we want to calculate the probability that the coin lands on heads given that the dice has rolled a 3:\n",
    "\n",
    "$\n",
    "P(A | B) = \\frac{P(A \\cap B)}{P(B)} = \\frac{\\frac{1}{12}}{\\frac{1}{6}} = \\frac{1}{12} \\times \\frac{6}{1} = \\frac{1}{2}\n",
    "$\n",
    "\n",
    "This confirms that the conditional probability of the coin landing on heads given that the die rolls a 3 is 0.5.\n",
    "\n"
   ]
  },
  {
   "cell_type": "code",
   "execution_count": 2,
   "id": "a2ca249b",
   "metadata": {
    "execution": {
     "iopub.execute_input": "2024-08-25T13:10:04.924442Z",
     "iopub.status.busy": "2024-08-25T13:10:04.923482Z",
     "iopub.status.idle": "2024-08-25T13:10:04.935430Z",
     "shell.execute_reply": "2024-08-25T13:10:04.934414Z"
    },
    "id": "HAl5gISVbVCT",
    "outputId": "1bf72bcc-86d7-45f8-8e65-f0f4d5973cd6",
    "papermill": {
     "duration": 0.028416,
     "end_time": "2024-08-25T13:10:04.937566",
     "exception": false,
     "start_time": "2024-08-25T13:10:04.909150",
     "status": "completed"
    },
    "tags": []
   },
   "outputs": [
    {
     "name": "stdout",
     "output_type": "stream",
     "text": [
      "P(A) = 0.4991\n",
      "P(B) = 0.1655\n",
      "P(A and B) = 0.0833\n",
      "P(A|B) = 0.5033\n"
     ]
    }
   ],
   "source": [
    "import numpy as np\n",
    "from scipy.stats import bernoulli, randint\n",
    "\n",
    "# Defining probability distributions\n",
    "p_coin = 0.5  # Probability of the coin landing heads\n",
    "p_dice = 1/6  # Probability of rolling a 3 with a die\n",
    "\n",
    "# Simulating the experiment\n",
    "num_trials = 10000\n",
    "coin_flips = bernoulli.rvs(p_coin, size=num_trials)\n",
    "dice_rolls = randint.rvs(1, 7, size=num_trials)\n",
    "\n",
    "# Calculating probabilities\n",
    "p_A = np.mean(coin_flips)\n",
    "p_B = np.mean(dice_rolls == 3)\n",
    "p_A_and_B = np.mean((coin_flips == 1) & (dice_rolls == 3))\n",
    "p_A_given_B = p_A_and_B / p_B\n",
    "\n",
    "print(f\"P(A) = {p_A:.4f}\")\n",
    "print(f\"P(B) = {p_B:.4f}\")\n",
    "print(f\"P(A and B) = {p_A_and_B:.4f}\")\n",
    "print(f\"P(A|B) = {p_A_given_B:.4f}\")\n"
   ]
  },
  {
   "cell_type": "markdown",
   "id": "9ef67e83",
   "metadata": {
    "papermill": {
     "duration": 0.012616,
     "end_time": "2024-08-25T13:10:04.963022",
     "exception": false,
     "start_time": "2024-08-25T13:10:04.950406",
     "status": "completed"
    },
    "tags": []
   },
   "source": [
    "**Example: Drawing Cards:**\n",
    "\n",
    "Let's consider a deck of cards. Suppose you want to find the probability of drawing a Queen (event A) given that you have drawn a face card (event B).\n",
    "\n",
    "$P(A \\cap B)$: There are 4 Queens out of 52 cards, and 12 face cards (Jacks, Queens, Kings). \n",
    "Since all Queens are also face cards, $P(A \\cap B) = \\frac{4}{52}$.\n",
    "\n",
    "$P(B)$: The probability of drawing any face card is $\\frac{12}{52} = \\frac{3}{13}$.\n",
    "\n",
    "Using the formula:\n",
    "\n",
    "$P(A|B) = \\frac{P(A \\cap B)}{P(B)} = \\frac{\\frac{4}{52}}{\\frac{12}{52}} = \\frac{1}{3}$\n",
    "\n",
    "Thus, the probability of drawing a Queen given that you have drawn a face card is $\\frac{1}{3}$."
   ]
  },
  {
   "cell_type": "markdown",
   "id": "405bbf7c",
   "metadata": {
    "id": "HieQV04-bxol",
    "papermill": {
     "duration": 0.01235,
     "end_time": "2024-08-25T13:10:04.987904",
     "exception": false,
     "start_time": "2024-08-25T13:10:04.975554",
     "status": "completed"
    },
    "tags": []
   },
   "source": [
    "# Bayes rule"
   ]
  },
  {
   "cell_type": "markdown",
   "id": "8a8ce9ce",
   "metadata": {
    "id": "Ar3Jo6WHbypg",
    "papermill": {
     "duration": 0.012424,
     "end_time": "2024-08-25T13:10:05.012831",
     "exception": false,
     "start_time": "2024-08-25T13:10:05.000407",
     "status": "completed"
    },
    "tags": []
   },
   "source": [
    "\n",
    "$$\n",
    "[\n",
    "P(A|B) = \\frac{P(B|A) \\cdot P(A)}{P(B)}\n",
    "]\n",
    "$$\n",
    "\n",
    "Where:\n",
    "\n",
    "* $( P(A|B) )$: The probability of the occurrence of event $(A)$ given the occurrence of event $(B)$ (conditional probability).\n",
    "* $( P(B|A) )$: The probability of the occurrence of event $(B)$ given the occurrence of event $(A)$.\n",
    "* $( P(A) )$: The probability of the occurrence of event $(A)$ (prior probability).\n",
    "* $( P(B) )$: The probability of the occurrence of event $(B)$.\n",
    "\n",
    "Proof:\n",
    "\n",
    "$$\n",
    "( P(A|B) = \\frac{P(A \\cap B)}{P(B)} )\n",
    "$$\n",
    "Multiply both sides by $( P(B) )$:\n",
    "$$\n",
    "[ P(A | B) \\cdot P(B) = P(A \\cap B) ]\n",
    "$$\n",
    "\n",
    "And the next case:\n",
    "$$\n",
    "( P(B|A) = \\frac{P(B \\cap A)}{P(A)} = \\frac{P(A \\cap B)}{P(A)} )\n",
    "$$\n",
    "Multiply both sides by $( P(A) )$:\n",
    "$$\n",
    "[ P(B | A) \\cdot P(A) = P(A \\cap B) ]\n",
    "$$\n",
    "\n",
    "Now, the equal equations are placed:\n",
    "$$\n",
    "(\\frac{P(A|B)}{P(B)} )=(\\frac{P(B|A)}{P(A)} )\n",
    "$$\n",
    "Finally:\n",
    "$$\n",
    "P(A|B) = \\frac{P(B|A) \\cdot P(A)}{P(B)}\n",
    "$$\n",
    "\n",
    "To calculate ( P(B) ), we can use the law of total probability:\n",
    "\n",
    "$$\n",
    "P(B) = P(B \\cap A) + P(B \\cap A')\n",
    "$$\n",
    "\n",
    "Replacing the intersection terms:\n",
    "$$\n",
    "[ P(B) = P(B|A) \\cdot P(A) + P(B|A') \\cdot P(A') ]\n",
    "$$\n",
    "\n",
    "Finally, substituting:\n",
    "$$\n",
    "[ P(A|B) = \\frac{P(B|A) \\cdot P(A)}{P(B|A) \\cdot P(A) + P(B|A') \\cdot P(A')} ]\n",
    "$$\n",
    "\n",
    "* $( P(A|B) )$ is the probability of the occurrence of $(A)$ given the occurrence of $(B)$.\n",
    "* $( P(B|A) )$ is the probability of the occurrence of $(B)$ given the occurrence of $(A)$.\n",
    "* $( P(A) )$ is the probability of the occurrence of $(A)$.\n",
    "* $( P(A') )$ is the probability of the non-occurrence of $(A)$.\n",
    "* $( P(B|A') )$ is the probability of the occurrence of $(B)$ given the non-occurrence of $(A)$."
   ]
  },
  {
   "cell_type": "code",
   "execution_count": 3,
   "id": "89408b41",
   "metadata": {
    "execution": {
     "iopub.execute_input": "2024-08-25T13:10:05.040757Z",
     "iopub.status.busy": "2024-08-25T13:10:05.039898Z",
     "iopub.status.idle": "2024-08-25T13:10:05.049849Z",
     "shell.execute_reply": "2024-08-25T13:10:05.048836Z"
    },
    "id": "EswuOTohd0ak",
    "outputId": "b0134ed1-c353-48b8-e1a9-fc41c562577f",
    "papermill": {
     "duration": 0.026378,
     "end_time": "2024-08-25T13:10:05.051925",
     "exception": false,
     "start_time": "2024-08-25T13:10:05.025547",
     "status": "completed"
    },
    "tags": []
   },
   "outputs": [
    {
     "name": "stdout",
     "output_type": "stream",
     "text": [
      "P(A|B) = 0.40\n",
      "H(A|B) = 0.67\n"
     ]
    }
   ],
   "source": [
    "import numpy as np\n",
    "from scipy.stats import multinomial, entropy\n",
    "\n",
    "# Define the probabilities\n",
    "P_A = 0.3  # P(A)\n",
    "P_B_given_A = 0.7  # P(B|A)\n",
    "P_A_given_B = 0.4  # P(A|B)\n",
    "\n",
    "# Calculate P(B)\n",
    "P_B = P_A * P_B_given_A\n",
    "\n",
    "# Calculate the conditional entropy H(A|B)\n",
    "P_AB = np.array([P_A_given_B * P_B, (1 - P_A_given_B) * P_B])\n",
    "H_A_given_B = entropy(P_AB)\n",
    "\n",
    "# Print the result\n",
    "print(f\"P(A|B) = {P_A_given_B:.2f}\")\n",
    "print(f\"H(A|B) = {H_A_given_B:.2f}\")"
   ]
  },
  {
   "cell_type": "markdown",
   "id": "828bbe54",
   "metadata": {
    "id": "EoqaA2hXcudu",
    "papermill": {
     "duration": 0.012609,
     "end_time": "2024-08-25T13:10:05.077214",
     "exception": false,
     "start_time": "2024-08-25T13:10:05.064605",
     "status": "completed"
    },
    "tags": []
   },
   "source": [
    "# independence"
   ]
  },
  {
   "cell_type": "markdown",
   "id": "4fccd44e",
   "metadata": {
    "id": "6ZXi5PTecvmH",
    "papermill": {
     "duration": 0.012447,
     "end_time": "2024-08-25T13:10:05.102162",
     "exception": false,
     "start_time": "2024-08-25T13:10:05.089715",
     "status": "completed"
    },
    "tags": []
   },
   "source": [
    "\n",
    "\n",
    "Two events (A) and (B) are independent if the occurrence of one does not affect the occurrence of the other. In other words, if the probability of the occurrence of (A) is equal to the probability of the occurrence of (A) with the knowledge of the occurrence of (B), then these two events are independent.\n",
    "\n",
    "When we say that two events are independent, one of the two following conditions is met:\n",
    "\n",
    "Condition 1:\n",
    "\n",
    "$$\n",
    "( P(B|A) = P(B) ) and ( P(A|B) = P(A) )\n",
    "$$\n",
    "\n",
    "If (A) and (B) are two independent events, then the probability of their simultaneous occurrence is calculated as follows:\n",
    "$$\n",
    "[\n",
    "P(A \\cap B) = P(A) \\cdot P(B)\n",
    "]\n",
    "$$\n",
    "\n",
    "Condition 2: If one of the two events ( A ) or ( B ) has a probability of zero, then they are independent. This means that if ( P(A) = 0 ) or ( P(B) = 0 ), knowing about one event does not change the chance of the other event happening.\n",
    "\n",
    "### Example of the Independence Law\n",
    "\n",
    "Suppose we consider the following two events:\n",
    "\n",
    "- **Event A**: Flipping a coin and the outcome is \"heads\".\n",
    "- **Event B**: Rolling a die and the outcome is \"number 3\".\n",
    "\n",
    "#### Probability Calculations:\n",
    "\n",
    "1. **Probability of A (Heads on the coin)**:\n",
    "   $\n",
    "   P(A) = \\frac{1}{2}\n",
    "   $\n",
    "\n",
    "2. **Probability of B (Number 3 on the die)**:\n",
    "   $\n",
    "   P(B) = \\frac{1}{6}\n",
    "   $\n",
    "\n",
    "#### Simultaneous Probability of A and B:\n",
    "\n",
    "The probability that both the coin lands on \"heads\" and the die rolls a \"number 3\":\n",
    "$\n",
    "P(A \\cap B) = P(A) \\cdot P(B) = \\frac{1}{2} \\cdot \\frac{1}{6} = \\frac{1}{12}\n",
    "$\n",
    "\n",
    "#### Checking Independence:\n",
    "\n",
    "To check if A and B are independent, we need to show that:\n",
    "$$\n",
    "P(A \\cap B) = P(A) \\cdot P(B)\n",
    "$$\n",
    "\n",
    "Let's perform the calculations:\n",
    "- $P(A \\cap B) = \\frac{1}{12}$\n",
    "- $P(A) \\cdot P(B) = \\frac{1}{2} \\cdot \\frac{1}{6} = \\frac{1}{12}$\n",
    "\n",
    "Since:\n",
    "$$\n",
    "P(A \\cap B) = P(A) \\cdot P(B)\n",
    "$$\n",
    "holds, therefore, the events A and B are independent.\n",
    "\n",
    "#### Conclusion:\n",
    "\n",
    "Since $P(A \\cap B) = P(A) \\cdot P(B)$ holds, we can conclude that the events A and B are independent.\n",
    "\n",
    "\n",
    "\n",
    "\n",
    "### Example: Gender of Children\n",
    "\n",
    "Let's assume that the probability of having a girl or a boy is equal, i.e.:\n",
    "\n",
    "- Probability of having a girl: $P(G) = \\frac{1}{2}$\n",
    "- Probability of having a boy: $P(B) = \\frac{1}{2}$\n",
    "\n",
    "We want to examine whether the gender of the first child (A) and the gender of the second child (B) are independent or not.\n",
    "\n",
    "#### Possible Outcomes\n",
    "\n",
    "The possible outcomes for two children are as follows:\n",
    "\n",
    "1. First child is a girl and second child is a girl: \\((G, G)\\)\n",
    "2. First child is a girl and second child is a boy: \\((G, B)\\)\n",
    "3. First child is a boy and second child is a girl: \\((B, G)\\)\n",
    "4. First child is a boy and second child is a boy: \\((B, B)\\)\n",
    "\n",
    "The probability of each of these outcomes is:\n",
    "\n",
    "$\n",
    "P(G, G) = P(G) \\cdot P(G) = \\frac{1}{2} \\cdot \\frac{1}{2} = \\frac{1}{4}\n",
    "$\n",
    "\n",
    "$\n",
    "P(G, B) = P(G) \\cdot P(B) = \\frac{1}{2} \\cdot \\frac{1}{2} = \\frac{1}{4}\n",
    "$\n",
    "\n",
    "$\n",
    "P(B, G) = P(B) \\cdot P(G) = \\frac{1}{2} \\cdot \\frac{1}{2} = \\frac{1}{4}\n",
    "$\n",
    "\n",
    "$\n",
    "P(B, B) = P(B) \\cdot P(B) = \\frac{1}{2} \\cdot \\frac{1}{2} = \\frac{1}{4}\n",
    "$\n",
    "\n",
    "#### Checking for Independence\n",
    "\n",
    "To check for independence, we need to show that:\n",
    "\n",
    "$$\n",
    "P(A \\cap B) = P(A) \\cdot P(B)\n",
    "$$\n",
    "\n",
    "For example, let's assume we want to check whether the first child is a girl (A) and the second child is a girl (B) are independent or not.\n",
    "\n",
    "Calculating the probability:\n",
    "\n",
    "$\n",
    "P(A \\cap B) = P(G, G) = \\frac{1}{4}\n",
    "$\n",
    "\n",
    "Now, calculating $P(A)$ and $P(B)$:\n",
    "\n",
    "$\n",
    "P(A) = P(G) = \\frac{1}{2}\n",
    "$\n",
    "\n",
    "$\n",
    "P(B) = P(G) = \\frac{1}{2}\n",
    "$\n",
    "\n",
    "Now, we check if the following relationship holds:\n",
    "\n",
    "$\n",
    "P(A) \\cdot P(B) = \\frac{1}{2} \\cdot \\frac{1}{2} = \\frac{1}{4}\n",
    "$\n",
    "\n",
    "#### Conclusion\n",
    "\n",
    "Since:\n",
    "\n",
    "$\n",
    "P(A \\cap B) = P(A) \\cdot P(B) = \\frac{1}{4}\n",
    "$\n",
    "\n",
    "We can conclude that the gender of the first child and the gender of the second child are independent. In other words, knowing the gender of the first child has no effect on the probability of the gender of the second child."
   ]
  },
  {
   "cell_type": "code",
   "execution_count": 4,
   "id": "c9b2d333",
   "metadata": {
    "execution": {
     "iopub.execute_input": "2024-08-25T13:10:05.129438Z",
     "iopub.status.busy": "2024-08-25T13:10:05.129088Z",
     "iopub.status.idle": "2024-08-25T13:10:05.138722Z",
     "shell.execute_reply": "2024-08-25T13:10:05.137580Z"
    },
    "id": "vQeW4lROlBeZ",
    "outputId": "cf73e45c-46a8-4fad-fc8e-17b62a0c6ed4",
    "papermill": {
     "duration": 0.026458,
     "end_time": "2024-08-25T13:10:05.141196",
     "exception": false,
     "start_time": "2024-08-25T13:10:05.114738",
     "status": "completed"
    },
    "tags": []
   },
   "outputs": [
    {
     "name": "stdout",
     "output_type": "stream",
     "text": [
      "Probability of A (heads on the coin): 0.50\n",
      "Probability of B (3 on the die): 0.17\n",
      "Probability of A and B: 0.08\n",
      "Probability of A * Probability of B: 0.08\n",
      "The events A and B are not independent.\n"
     ]
    }
   ],
   "source": [
    "import numpy as np\n",
    "from scipy.stats import bernoulli, randint\n",
    "\n",
    "# Defining events A and B\n",
    "p_a = 0.5  # Probability of event A (flipping the coin and getting heads)\n",
    "p_b = 1/6  # Probability of event B (rolling the die and getting a 3)\n",
    "\n",
    "# Generating random samples for events A and B\n",
    "a = bernoulli.rvs(p_a, size=10000)\n",
    "b = randint.rvs(1, 7, size=10000)  # Rolling the die (numbers 1 to 6)\n",
    "\n",
    "# Calculating the joint probability of events A and B\n",
    "p_a_and_b = np.mean(a * (b == 3))\n",
    "\n",
    "# Calculating the independent probability of events A and B\n",
    "p_a_p_b = p_a * p_b\n",
    "\n",
    "# Printing results\n",
    "print(f\"Probability of A (heads on the coin): {p_a:.2f}\")\n",
    "print(f\"Probability of B (3 on the die): {p_b:.2f}\")\n",
    "print(f\"Probability of A and B: {p_a_and_b:.2f}\")\n",
    "print(f\"Probability of A * Probability of B: {p_a_p_b:.2f}\")\n",
    "\n",
    "# Checking independence of the events\n",
    "if np.isclose(p_a_and_b, p_a_p_b):\n",
    "    print(\"The events A and B are independent.\")\n",
    "else:\n",
    "    print(\"The events A and B are not independent.\")\n"
   ]
  },
  {
   "cell_type": "markdown",
   "id": "06d11144",
   "metadata": {
    "id": "uUArZ-rMnUD-",
    "papermill": {
     "duration": 0.012583,
     "end_time": "2024-08-25T13:10:05.170398",
     "exception": false,
     "start_time": "2024-08-25T13:10:05.157815",
     "status": "completed"
    },
    "tags": []
   },
   "source": [
    "# Probability distribution"
   ]
  },
  {
   "cell_type": "markdown",
   "id": "69df1685",
   "metadata": {
    "id": "baPu7bNln3qt",
    "papermill": {
     "duration": 0.012643,
     "end_time": "2024-08-25T13:10:05.195746",
     "exception": false,
     "start_time": "2024-08-25T13:10:05.183103",
     "status": "completed"
    },
    "tags": []
   },
   "source": [
    "Distribution in statistics and probability is a tool that helps us understand how different values of a random variable are distributed in a dataset and what probabilities exist for their occurrence.\n",
    "\n",
    "**What is a random variable?**\n",
    "\n",
    "A random variable is a number that represents the outcome of a random experiment.\n",
    "In other words, it maps each outcome of an experiment to a real number. For example:\n",
    "\n",
    "* In a coin flip, the random variable could be the number of times \"heads\" comes up.\n",
    "* In rolling a die, the random variable could be the number that shows up on the die.\n",
    "\n",
    "    For example:\n",
    "\n",
    "        Random variable (X): The outcome of rolling a die.\n",
    "\n",
    "        Possible values for (X): 1, 2, 3, 4, 5, and 6.\n",
    "\n",
    "        When you roll the die, you might get the number 3. In this case, we say (X = 3).\n",
    "\n",
    "        If the number 5 comes up, we say (X = 5).\n",
    "        We represent the random variable with capital letters.\n",
    "\n",
    "**Types of random variables**\n",
    "\n",
    "Random variables are divided into two types:\n",
    "\n",
    "*   Discrete random variable:\n",
    "\n",
    "      This type of variable can only take on specific values.\n",
    "      Example: The number of times \"heads\" comes up in 10 coin flips (possible values: 0, 1, 2, ... up to 10).\n",
    "\n",
    "* Continuous random variable:\n",
    "\n",
    "This type of variable can take on any value within a specific range.\n",
    "Example: The height of a person (can be any number, for example, 170.5 centimeters).\n",
    "\n",
    "\n",
    "\n",
    "**Important characteristics of a random variable**\n",
    "\n",
    "1. Mathematical expectation (Mean or Expected Value)\n",
    "\n",
    "2. Variance\n",
    "\n",
    "3. Standard Deviation\n",
    "\n",
    "4. Skewness\n",
    "\n",
    "5. Kurtosis\n",
    "\n",
    "6. Cumulative Distribution Function (CDF)\n",
    "\n",
    "7. Probability Density Function (PDF)\n",
    "\n",
    "\n",
    "\n",
    "\n",
    " **What is probability distribution?**\n",
    "\n",
    "Probability distribution specifies the probability of occurrence of each possible value of a random variable. This distribution can be divided into two main types:\n",
    "\n",
    "* Discrete distribution:\n",
    "\n",
    "When the random variable can only take on specific values. For example, the number of times \"heads\" comes up in a coin flip.\n",
    "\n",
    "* Continuous distribution:\n",
    "\n",
    "   When the random variable can take on any value within a specific range. For example, the height of a person.\n",
    "\n",
    "Simple example\n",
    "\n",
    "Suppose you roll a die. Here:\n",
    "\n",
    "    Experiment: Rolling a die\n",
    "    Possible outcomes: 1, 2, 3, 4, 5, or 6\n",
    "\n",
    "Probability distribution for rolling a die\n",
    "\n",
    "For a die, the probability distribution is as follows:\n",
    "\n",
    "    Probability of getting a 1: (P(X = 1) = 1/6)\n",
    "    Probability of getting a 2: (P(X = 2) = 1/6)\n",
    "    Probability of getting a 3: (P(X = 3) = 1/6)\n",
    "    Probability of getting a 4: (P(X = 4) = 1/6)\n",
    "    Probability of getting a 5: (P(X = 5) = 1/6)\n",
    "    Probability of getting a 6: (P(X = 6) = 1/6)\n",
    "\n",
    "\n",
    "\n",
    "Distributions come in various types, each with its own unique characteristics. Some of the well-known distributions are:\n",
    "\n",
    "Discrete Distributions:\n",
    "\n",
    "* Bernoulli Distribution:\n",
    "  For modeling an experiment with two possible outcomes (success and failure).\n",
    "\n",
    "* Binomial Distribution:\n",
    "  For counting the number of successes in n independent experiments.\n",
    "* Poisson Distribution:\n",
    "  For modeling the number of occurrences of an event in a given time or spatial interval.\n",
    "\n",
    "Continuous Distributions:\n",
    "\n",
    "Continuous distributions are defined for continuous random variables, meaning variables that can take any real value within a specific range. For example:\n",
    "\n",
    "* Normal (Gaussian) Distribution:\n",
    "  One of the most important distributions, having a bell-shaped curve, and modeling many natural phenomena.\n",
    "* Uniform Distribution:\n",
    "  Where all values within a specific range have an equal probability.\n",
    "* Exponential Distribution:\n",
    "  For modeling the time between independent events.\n",
    "\n",
    "\n",
    "**Probability Mass Function (PMF)**\n",
    "\n",
    "The Probability Mass Function (PMF) is defined for discrete random variables and allows us to calculate the probability of each possible value of a discrete random variable. The PMF is a function (p(x)) that is defined for each possible value (x) of the random variable (X) and works as follows:\n",
    "\n",
    "$[\n",
    "p(x) = P(X = x)\n",
    "]$\n",
    "\n",
    "This function must satisfy the following conditions:\n",
    "\n",
    "* Non-negativity: For every value of (x), $[( p(x) \\geq 0 )]$.\n",
    "\n",
    "* Range:\n",
    "  Every (x) must be within the range, otherwise the probability is zero.\n",
    "  The range or domain is the set of values that the function variable can take.\n",
    "\n",
    "* Sum of Probabilities:\n",
    "  The sum of all probabilities is equal to 1: $[ \\sum_{x} p(x) = 1 ]$\n",
    "\n",
    "\n",
    "Example:\n",
    "Let's define the random variable (X) as the outcome of rolling a die. The possible values of (X) are: 1, 2, 3, 4, 5, and 6.\n",
    "\n",
    "| x | P(X = x) |\n",
    "|---|----------|\n",
    "| 1 | 1/6      |\n",
    "| 2 | 1/6      |\n",
    "| 3 | 1/6      |\n",
    "| 4 | 1/6      |\n",
    "| 5 | 1/6      |\n",
    "| 6 | 1/6      |\n"
   ]
  },
  {
   "cell_type": "code",
   "execution_count": null,
   "id": "2c3e9688",
   "metadata": {
    "id": "GqUrOxIVnzEv",
    "papermill": {
     "duration": 0.012747,
     "end_time": "2024-08-25T13:10:05.221103",
     "exception": false,
     "start_time": "2024-08-25T13:10:05.208356",
     "status": "completed"
    },
    "tags": []
   },
   "outputs": [],
   "source": []
  },
  {
   "cell_type": "markdown",
   "id": "d032677b",
   "metadata": {
    "id": "nAGnfX9QphKY",
    "papermill": {
     "duration": 0.013998,
     "end_time": "2024-08-25T13:10:05.247948",
     "exception": false,
     "start_time": "2024-08-25T13:10:05.233950",
     "status": "completed"
    },
    "tags": []
   },
   "source": [
    "**Cumulative Distribution Function**\n",
    "\n",
    "The Cumulative Distribution Function (CDF) is a function that specifies the probability that a random variable takes a value less than or equal to a certain value. In other words, the CDF shows the probability that a random variable (X) is less than or equal to a specific value $(x)$.\n",
    "\n",
    "For a random variable $(X)$, the cumulative distribution function is defined as:\n",
    "\n",
    "$[\n",
    "F(x) = P(X \\leq x)\n",
    "]$\n",
    "\n",
    "\n",
    "\n",
    "**Properties of the Cumulative Distribution Function**\n",
    "\n",
    "\n",
    "  * Range: The cumulative distribution function always lies in the range $([0, 1])$. That is:\n",
    "  $[\n",
    "  0 \\leq F(x) \\leq 1\n",
    "  ]$\n",
    "\n",
    "* Non-decreasing: The cumulative distribution function is non-decreasing. This means that if $( a < b )$, then:\n",
    "$[\n",
    "F(a) \\leq F(b)\n",
    "]$\n",
    "\n",
    "* Defined at non-natural points: Its value is defined even at non-natural points.\n",
    "\n",
    "* Limits: As $( x )$ approaches negative infinity, $( F(x) )$ approaches 0: $[ \\lim_{x \\to -\\infty} F(x) = 0 ]$\n",
    " As $( x )$ approaches positive infinity, $( F(x) )$ approaches 1: $[ \\lim_{x \\to +\\infty} F(x) = 1 ]$\n",
    "\n",
    "\n",
    " Suppose the random variable $(X)$ represents the height of individuals in a population. Then:\n",
    "\n",
    "    As we move towards negative infinity (like -100 cm), no individual can be that short, so the probability that someone's height is less than -100 cm is 0.\n",
    "    As we move towards positive infinity (like 300 cm), most individuals in our population are likely to have a height less than that, so the probability that someone's height is less than 300 cm is approximately 1.\n",
    "\n",
    "\n",
    "* Continuity: For continuous random variables, the cumulative distribution function is a continuous function. For discrete random variables, it may be discontinuous at certain points.\n",
    "\n",
    "\n",
    "$[\n",
    "F(x) = \\int_{-\\infty}^{x} f(t) , dt\n",
    "]$\n",
    "\n",
    "* Calculating $(P(X > x))$:  To calculate the probability that a random variable (X) is greater than a specific value (x), we can use the cumulative distribution function (CDF).\n",
    "\n",
    "$[\n",
    "P(X > x) = 1 - P(X \\leq x) = 1 - F(x)\n",
    "]$"
   ]
  },
  {
   "cell_type": "code",
   "execution_count": null,
   "id": "cc70012f",
   "metadata": {
    "id": "Ho-afQA_pk3r",
    "papermill": {
     "duration": 0.012657,
     "end_time": "2024-08-25T13:10:05.273449",
     "exception": false,
     "start_time": "2024-08-25T13:10:05.260792",
     "status": "completed"
    },
    "tags": []
   },
   "outputs": [],
   "source": []
  },
  {
   "cell_type": "markdown",
   "id": "2efd7cff",
   "metadata": {
    "id": "wr23Swm4plKc",
    "papermill": {
     "duration": 0.012776,
     "end_time": "2024-08-25T13:10:05.298948",
     "exception": false,
     "start_time": "2024-08-25T13:10:05.286172",
     "status": "completed"
    },
    "tags": []
   },
   "source": [
    "\n",
    "**Variance**\n",
    "\n",
    "Variance tells us how far the data is from its mean.\n",
    "\n",
    "For a random variable $(X)$, the variance is defined as follows:\n",
    "\n",
    "* For a discrete random variable:\n",
    "\n",
    "$[\n",
    "   Var(X) = E[(X - E(X))^2] = \\sum_{i=1}^{n} P(X = x_i) \\cdot (x_i - E(X))^2\n",
    "   ]$\n",
    "\n",
    "where $(E(X))$ is the mathematical expectation (mean) of $(X)$ and $(P(X = x_i))$ is the probability of the value $(x_i)$ occurring.\n",
    "\n",
    "* For a continuous random variable:\n",
    "\n",
    "$[\n",
    " Var(X) = E[(X - E(X))^2] = \\int_{-\\infty}^{\\infty} (x - E(X))^2 \\cdot f(x) , dx\n",
    " ]$\n",
    "\n",
    "where $(f(x))$ is the probability density function.\n",
    "\n",
    "Another formula for variance:\n",
    "\n",
    "$[\n",
    "Var(X) = E(X^2) - (E(X))^2\n",
    "]$\n",
    "\n",
    "**Properties of Variance**\n",
    "\n",
    "* Linearity of Variance:\n",
    "\n",
    "If (a) and (b) are real constants and (X) is a random variable, then:\n",
    "$[\n",
    "Var(aX + b) = a^2 Var(X)\n",
    "]$\n",
    "\n",
    "This property shows that variance is not affected by shifting (adding a constant), but if we multiply the random variable by a constant, the variance is multiplied by the square of that constant.\n",
    "\n",
    "* Variance of the Sum of Random Variables:\n",
    "\n",
    "If (X) and (Y) are two independent random variables, then:\n",
    "$[\n",
    "Var(X + Y) = Var(X) + Var(Y)\n",
    "]$\n",
    "\n",
    "This relationship shows that the variance of the sum of two independent random variables is equal to the sum of their variances.\n",
    "\n",
    "* Variance of Dependent Random Variables:\n",
    "\n",
    "If (X) and (Y) are two dependent random variables, then:\n",
    "$[\n",
    "Var(X + Y) = Var(X) + Var(Y) + 2Cov(X, Y)\n",
    "]$\n",
    "\n",
    "where $(Cov(X, Y))$ is the covariance of (X) and (Y). This relationship shows that in the case of dependence, we must also consider the covariance in the variance calculations.\n",
    "\n",
    "* Variance and Mathematical Expectation:\n",
    "\n",
    "Variance can be calculated using the mathematical expectation:\n",
    "$[\n",
    "Var(X) = E(X^2) - (E(X))^2\n",
    "]$\n",
    "\n",
    "This formula allows us to calculate the variance using the mathematical expectation and the mathematical expectation of the square.\n",
    "\n",
    "* Variance and Normal Distribution:\n",
    "\n",
    "In the normal distribution, the variance provides us with information about the data dispersion. In a normal distribution with mean $(\\mu)$ and variance $(\\sigma^2)$, about 68% of the data is within one standard deviation $((\\sigma))$ of the mean, and 95% is within two standard deviations.\n",
    "\n",
    "* Non-Negative Variance:\n",
    "\n",
    "Variance is always non-negative, i.e.:\n",
    "$[\n",
    "Var(X) \\geq 0\n",
    "]$\n",
    "\n",
    "Variance is equal to zero only if all values of (X) are equal to its mean (i.e., there is no dispersion)."
   ]
  },
  {
   "cell_type": "code",
   "execution_count": null,
   "id": "cff487f1",
   "metadata": {
    "id": "BxXQNGkapyI0",
    "papermill": {
     "duration": 0.013315,
     "end_time": "2024-08-25T13:10:05.325398",
     "exception": false,
     "start_time": "2024-08-25T13:10:05.312083",
     "status": "completed"
    },
    "tags": []
   },
   "outputs": [],
   "source": []
  },
  {
   "cell_type": "markdown",
   "id": "744f4e76",
   "metadata": {
    "id": "_UDSdNeMpya9",
    "papermill": {
     "duration": 0.012676,
     "end_time": "2024-08-25T13:10:05.353133",
     "exception": false,
     "start_time": "2024-08-25T13:10:05.340457",
     "status": "completed"
    },
    "tags": []
   },
   "source": [
    "\n",
    "<dir dir='ltr'>\n",
    "An example in coin tossing:\n",
    "To calculate and use the variance formula $( \\text{Var}(X) = E(X^2) - (E(X))^2 )$ for a fair coin (which has two possible outcomes: head and tail), we first need to calculate the mathematical expectation $( E(X) )$ and $( E(X^2) )$.\n",
    "\n",
    "1. Define the random variable $( X )$\n",
    "\n",
    "Let's define the random variable $( X )$ as follows:\n",
    "\n",
    "$( X = 1 )$ if the coin lands on head (success)\n",
    "\n",
    "$( X = 0 )$ if the coin lands on tail (failure)\n",
    "\n",
    "2. Calculate the mathematical expectation $( E(X) )$\n",
    "The mathematical expectation $( E(X) )$ is calculated as:\n",
    "\n",
    "$[\n",
    "E(X) = \\sum_{i} x_i \\cdot P(X = x_i)\n",
    "]$\n",
    "\n",
    "For a fair coin:\n",
    "\n",
    "$( P(X = 1) = 0.5 )$ (head)\n",
    "\n",
    "$( P(X = 0) = 0.5 )$ (tail)\n",
    "\n",
    "Therefore:\n",
    "\n",
    "$[\n",
    "E(X) = (1 \\cdot 0.5) + (0 \\cdot 0.5) = 0.5\n",
    "]$\n",
    "\n",
    "3. Calculate $( E(X^2) )$\n",
    "\n",
    "To calculate $( E(X^2) )$, we first calculate $( X^2 )$:\n",
    "\n",
    "If $( X = 1 )$, then $( X^2 = 1 )$\n",
    "\n",
    "If $( X = 0 )$, then $( X^2 = 0 )$\n",
    "\n",
    "Therefore:\n",
    "\n",
    "$[\n",
    "E(X^2) = \\sum_{i} x_i^2 \\cdot P(X = x_i) = (1^2 \\cdot 0.5) + (0^2 \\cdot 0.5) = 0.5\n",
    "]$\n",
    "\n",
    "4. Calculate the variance $( \\text{Var}(X) )$\n",
    "Now we can calculate the variance $( X )$:\n",
    "\n",
    "$[\n",
    "\\text{Var}(X) = E(X^2) - (E(X))^2\n",
    "]$\n",
    "\n",
    "Substituting the values:\n",
    "\n",
    "$[\n",
    "\\text{Var}(X) = 0.5 - (0.5)^2 = 0.5 - 0.25 = 0.25\n",
    "]$\n",
    "\n",
    "Conclusion\n",
    "The variance $( X )$ for tossing a fair coin is $( 0.25 )$. This shows how much the results are scattered around the mean $( 0.5 )$."
   ]
  },
  {
   "cell_type": "markdown",
   "id": "eb0bf8f3",
   "metadata": {
    "id": "G9YYMKQSqOCx",
    "papermill": {
     "duration": 0.012491,
     "end_time": "2024-08-25T13:10:05.378334",
     "exception": false,
     "start_time": "2024-08-25T13:10:05.365843",
     "status": "completed"
    },
    "tags": []
   },
   "source": [
    "# Discrete distributions"
   ]
  },
  {
   "cell_type": "markdown",
   "id": "78aa3e5f",
   "metadata": {
    "id": "tnbha6VfqRng",
    "papermill": {
     "duration": 0.01254,
     "end_time": "2024-08-25T13:10:05.403602",
     "exception": false,
     "start_time": "2024-08-25T13:10:05.391062",
     "status": "completed"
    },
    "tags": []
   },
   "source": [
    "**Bernoulli:**\n",
    "\n",
    "Bernoulli Trials refer to experiments where there are only two possible outcomes. These outcomes are usually defined as \"success\" and \"failure\". The probability of success (p) and the probability of failure (1-p) are constant in each experiment, and it is assumed that the results of different experiments are independent of each other.\n",
    "\n",
    "If X is a random variable that represents the outcome of a Bernoulli trial, we can define it as:\n",
    "\n",
    "    (X = 1) (success) with probability (p)\n",
    "    (X = 0) (failure) with probability (1 - p)\n",
    "\n",
    "The probability mass function of a Bernoulli random variable is:\n",
    "\n",
    "$[\n",
    "P(X = x) = p^x (1 - p)^{1 - x} \\quad \\text{for } x \\in {0, 1}\n",
    "]$\n",
    "\n",
    "\n",
    "Example:\n",
    "Suppose we want to build a machine learning model that can detect whether an email is spam or not. Here, we have two classes:\n",
    "\n",
    "    Class 1 (success): The email is spam.\n",
    "    Class 0 (failure): The email is not spam.\n",
    "\n",
    "In this case, the output of the model can be modeled as a Bernoulli random variable. This means that:\n",
    "\n",
    "        (P(Y = 1 | X) = p) (the probability that the email is spam)\n",
    "        (P(Y = 0 | X) = 1 - p) (the probability that the email is not spam)\n",
    "    where (Y) is the output variable and (X) are the features of the email."
   ]
  },
  {
   "cell_type": "code",
   "execution_count": 5,
   "id": "a7a3b276",
   "metadata": {
    "execution": {
     "iopub.execute_input": "2024-08-25T13:10:05.430704Z",
     "iopub.status.busy": "2024-08-25T13:10:05.430338Z",
     "iopub.status.idle": "2024-08-25T13:10:05.607519Z",
     "shell.execute_reply": "2024-08-25T13:10:05.606586Z"
    },
    "id": "n6vrlX_KqlQk",
    "outputId": "9ce70268-4739-49c5-e11f-3d37bdaeba84",
    "papermill": {
     "duration": 0.193402,
     "end_time": "2024-08-25T13:10:05.609720",
     "exception": false,
     "start_time": "2024-08-25T13:10:05.416318",
     "status": "completed"
    },
    "tags": []
   },
   "outputs": [
    {
     "data": {
      "image/png": "[encoded data removed]",
      "text/plain": [
       "<Figure size 640x480 with 1 Axes>"
      ]
     },
     "metadata": {},
     "output_type": "display_data"
    }
   ],
   "source": [
    "import numpy as np\n",
    "import matplotlib.pyplot as plt\n",
    "from scipy.stats import bernoulli\n",
    "\n",
    "# Parameters of the Bernoulli distribution\n",
    "p = 0.6  # Probability of success (e.g., heads of a coin)\n",
    "n = 1    # Number of trials (Bernoulli)\n",
    "\n",
    "# Calculate the probability of success and failure\n",
    "x = [0, 1]  # 0 = failure, 1 = success\n",
    "probabilities = bernoulli.pmf(x, p)\n",
    "\n",
    "# Plotting the graph\n",
    "plt.bar(x, probabilities, color=['red', 'green'], tick_label=['Failure (0)', 'Success (1)'])\n",
    "plt.ylabel('Probability')\n",
    "plt.title('Bernoulli Distribution')\n",
    "plt.ylim(0, 1)  # Set the range of the y-axis\n",
    "plt.show()\n"
   ]
  },
  {
   "cell_type": "code",
   "execution_count": 6,
   "id": "f8ddba34",
   "metadata": {
    "execution": {
     "iopub.execute_input": "2024-08-25T13:10:05.637658Z",
     "iopub.status.busy": "2024-08-25T13:10:05.637367Z",
     "iopub.status.idle": "2024-08-25T13:10:05.643279Z",
     "shell.execute_reply": "2024-08-25T13:10:05.642440Z"
    },
    "id": "SjV2LFKxqqDc",
    "outputId": "181c296c-ec5b-4513-9a72-84a063c3e185",
    "papermill": {
     "duration": 0.02182,
     "end_time": "2024-08-25T13:10:05.645246",
     "exception": false,
     "start_time": "2024-08-25T13:10:05.623426",
     "status": "completed"
    },
    "tags": []
   },
   "outputs": [
    {
     "data": {
      "text/plain": [
       "array([0.4, 0.6])"
      ]
     },
     "execution_count": 6,
     "metadata": {},
     "output_type": "execute_result"
    }
   ],
   "source": [
    "probabilities"
   ]
  },
  {
   "cell_type": "code",
   "execution_count": 7,
   "id": "02d96346",
   "metadata": {
    "execution": {
     "iopub.execute_input": "2024-08-25T13:10:05.673343Z",
     "iopub.status.busy": "2024-08-25T13:10:05.672957Z",
     "iopub.status.idle": "2024-08-25T13:10:05.686641Z",
     "shell.execute_reply": "2024-08-25T13:10:05.685825Z"
    },
    "id": "Nb1ucIyJq1pu",
    "outputId": "7c930483-bece-479f-f18b-d3305b76a508",
    "papermill": {
     "duration": 0.030136,
     "end_time": "2024-08-25T13:10:05.688852",
     "exception": false,
     "start_time": "2024-08-25T13:10:05.658716",
     "status": "completed"
    },
    "tags": []
   },
   "outputs": [
    {
     "name": "stdout",
     "output_type": "stream",
     "text": [
      "Probability of Success (Heads): 0.5\n",
      "Probability of Failure (Tails): 0.5000000000000001\n",
      "[1 1 0 0 0 1 1 1 1 1 1 1 1 0 1 1 0 1 1 0 0 1 0 0 0 1 0 1 1 1 1 1 0 1 0 0 0\n",
      " 1 1 1 1 1 0 0 1 0 0 0 1 0 1 0 0 0 1 0 1 0 0 0 1 0 1 0 1 0 0 1 1 1 1 1 1 1\n",
      " 1 1 0 0 0 0 0 1 0 1 0 1 0 0 0 1 1 0 0 1 0 1 0 0 0 1 1 1 0 1 1 0 0 1 0 1 0\n",
      " 0 0 1 0 1 0 1 1 0 1 0 0 0 0 1 0 1 1 1 1 0 0 0 1 0 1 1 1 0 0 0 0 1 1 1 0 1\n",
      " 1 0 0 0 1 1 1 0 1 1 1 0 1 1 0 1 0 1 1 0 1 1 1 0 1 1 1 0 0 1 1 1 1 1 0 1 1\n",
      " 0 0 1 1 1 1 0 0 1 0 0 0 1 0 0 0 1 0 1 1 0 0 1 1 0 1 1 0 0 1 1 1 0 1 0 0 0\n",
      " 0 1 0 1 1 1 0 0 0 0 0 1 1 0 1 0 0 1 0 0 1 0 0 0 1 0 0 1 1 1 1 0 1 1 1 1 0\n",
      " 0 1 0 1 0 0 0 0 0 1 1 1 0 1 1 0 1 1 1 1 1 0 1 1 1 1 1 1 0 1 0 0 1 0 0 1 0\n",
      " 1 1 0 1 0 0 0 1 0 0 1 0 0 0 0 1 1 0 0 1 0 1 0 0 0 1 0 1 1 1 0 0 0 0 0 0 1\n",
      " 1 0 0 0 0 0 1 0 1 1 0 1 1 1 0 0 1 0 0 0 1 1 0 1 0 0 1 1 1 1 1 1 1 1 1 1 0\n",
      " 0 0 1 1 1 1 0 0 1 0 1 1 0 1 1 0 0 0 0 1 0 1 0 1 0 1 0 0 0 1 0 1 1 1 1 0 0\n",
      " 0 1 0 0 0 0 1 0 1 1 1 1 0 1 0 1 0 0 1 1 1 0 1 0 1 0 1 0 1 1 1 1 1 1 1 0 1\n",
      " 1 0 0 1 0 1 1 1 0 0 0 0 1 0 0 1 1 0 1 0 0 0 0 0 0 0 0 0 0 1 1 1 0 1 0 1 0\n",
      " 0 1 0 1 1 0 1 1 1 0 0 1 1 1 1 0 0 0 1 1 0 0 1 1 0 1 0 0 0 1 0 0 0 1 1 0 1\n",
      " 1 0 1 1 1 1 1 1 1 1 1 0 0 1 1 0 0 1 1 1 0 1 1 0 1 1 1 1 0 0 0 1 0 1 0 1 0\n",
      " 0 1 1 1 0 1 1 1 0 0 0 0 1 1 1 0 1 0 0 0 0 1 0 1 1 1 1 1 1 1 1 1 1 1 1 1 0\n",
      " 1 0 0 1 1 1 0 1 1 0 0 0 0 1 1 1 0 0 1 0 1 1 0 0 1 1 1 1 0 1 1 0 0 0 1 1 1\n",
      " 0 1 0 0 1 0 1 0 1 0 1 1 0 0 0 1 0 1 1 1 1 1 1 0 1 0 1 1 1 1 0 0 0 0 0 0 1\n",
      " 0 1 1 0 0 0 1 0 1 0 1 1 1 1 0 0 0 1 0 1 0 0 0 1 0 1 0 1 1 0 0 1 0 0 0 0 0\n",
      " 0 0 1 0 1 0 1 1 0 0 1 0 0 1 1 0 0 1 0 0 1 0 0 1 0 0 0 1 0 1 0 1 0 0 1 1 1\n",
      " 0 0 1 0 1 1 1 0 1 1 0 1 1 0 1 1 0 1 1 0 1 1 1 1 1 1 0 0 0 0 1 0 0 0 1 0 0\n",
      " 1 1 1 1 0 1 0 0 1 0 1 1 1 0 1 0 1 0 0 0 0 1 0 0 1 1 0 0 1 1 1 0 0 0 1 1 0\n",
      " 0 0 1 1 0 1 1 1 0 0 0 1 0 0 0 0 1 0 1 1 1 1 0 1 0 1 0 1 1 0 0 1 1 1 1 1 1\n",
      " 1 0 0 1 1 1 1 0 0 1 0 0 0 1 0 0 1 1 1 0 1 1 0 0 1 0 1 1 1 0 0 1 1 1 1 1 1\n",
      " 0 1 1 0 1 1 1 0 0 1 0 1 0 1 0 0 1 1 0 0 0 0 1 0 1 1 0 0 1 1 1 1 0 0 1 0 1\n",
      " 1 0 0 1 1 1 0 1 0 1 1 0 1 1 1 1 1 0 1 1 1 0 1 1 0 0 1 0 0 1 0 0 1 1 0 0 1\n",
      " 0 0 1 1 0 0 0 0 1 1 1 0 0 1 0 1 1 1 1 1 0 1 1 1 1 0 1 1 1 0 0 0 0 0 0 1 1\n",
      " 0]\n",
      "CDF values: [0.4 1. ]\n",
      "Variance: 0.24\n"
     ]
    }
   ],
   "source": [
    "from scipy.stats import bernoulli\n",
    "\n",
    "# Create a Bernoulli distribution with p = 0.5\n",
    "dist = bernoulli(0.5)\n",
    "\n",
    "# Calculate the probability of success\n",
    "prob_success = dist.pmf(1)  # Probability of success (heads)\n",
    "prob_failure = dist.pmf(0)   # Probability of failure (tails)\n",
    "\n",
    "print(f\"Probability of Success (Heads): {prob_success}\")\n",
    "print(f\"Probability of Failure (Tails): {prob_failure}\")\n",
    "\n",
    "# Simulate 1000 samples from the Bernoulli distribution\n",
    "samples = dist.rvs(size=1000)\n",
    "\n",
    "print(samples)\n",
    "\n",
    "x = [0, 1]  # Possible values\n",
    "cdf_values = bernoulli.cdf(x, p)\n",
    "print(f\"CDF values: {cdf_values}\")\n",
    "\n",
    "# Calculate variance\n",
    "variance = p * (1 - p)\n",
    "print(f\"Variance: {variance:.2f}\")\n"
   ]
  },
  {
   "cell_type": "markdown",
   "id": "02e65e31",
   "metadata": {
    "id": "qVxJ3NQzrTKc",
    "papermill": {
     "duration": 0.01325,
     "end_time": "2024-08-25T13:10:05.715601",
     "exception": false,
     "start_time": "2024-08-25T13:10:05.702351",
     "status": "completed"
    },
    "tags": []
   },
   "source": [
    "**Binomial Distribution:**\n",
    "\n",
    "The binomial distribution refers to the number of successes in (n) independent trials, where each trial has two possible outcomes (success or failure).\n",
    "\n",
    "$[\n",
    "P(X = k) = \\binom{n}{k} p^k (1-p)^{n-k}\n",
    "]$\n",
    "\n",
    "\n",
    "Applications\n",
    "\n",
    "The binomial distribution is used in many areas, including:\n",
    "\n",
    "    Medical trials (success or failure of treatment)\n",
    "    Surveys (positive or negative responses)\n",
    "    Quality control (defective or non-defective products)"
   ]
  },
  {
   "cell_type": "code",
   "execution_count": 8,
   "id": "7c1f6def",
   "metadata": {
    "execution": {
     "iopub.execute_input": "2024-08-25T13:10:05.743823Z",
     "iopub.status.busy": "2024-08-25T13:10:05.743495Z",
     "iopub.status.idle": "2024-08-25T13:10:05.978947Z",
     "shell.execute_reply": "2024-08-25T13:10:05.978043Z"
    },
    "id": "bI10j5uzrgO8",
    "outputId": "b3b79ef4-4722-4046-d80a-ca5b124e9ace",
    "papermill": {
     "duration": 0.252277,
     "end_time": "2024-08-25T13:10:05.981312",
     "exception": false,
     "start_time": "2024-08-25T13:10:05.729035",
     "status": "completed"
    },
    "tags": []
   },
   "outputs": [
    {
     "data": {
      "image/png": "[encoded data removed]",
      "text/plain": [
       "<Figure size 640x480 with 1 Axes>"
      ]
     },
     "metadata": {},
     "output_type": "display_data"
    }
   ],
   "source": [
    "import numpy as np\n",
    "import matplotlib.pyplot as plt\n",
    "from scipy.stats import bernoulli, binom\n",
    "\n",
    "# Parameters of the Bernoulli distribution\n",
    "p = 0.5  # Probability of success (heads)\n",
    "\n",
    "# Simulating Bernoulli trials\n",
    "n_trials = 40  # Number of trials\n",
    "results = bernoulli.rvs(p, size=n_trials)\n",
    "\n",
    "# Calculate the frequency of successes and failures\n",
    "success_count = np.sum(results)\n",
    "failure_count = n_trials - success_count\n",
    "\n",
    "# Data for the chart\n",
    "labels = ['Success (Heads)', 'Failure (Tails)']\n",
    "counts = [success_count, failure_count]\n",
    "\n",
    "# Plotting the graph\n",
    "plt.bar(labels, counts, color=['green', 'red'])\n",
    "plt.ylabel('Count')\n",
    "plt.title('Bernoulli Distribution: Coin Toss Simulation')\n",
    "plt.ylim(0, n_trials)  # Set the range of the y-axis\n",
    "plt.show()\n"
   ]
  },
  {
   "cell_type": "code",
   "execution_count": 9,
   "id": "59cf18a8",
   "metadata": {
    "execution": {
     "iopub.execute_input": "2024-08-25T13:10:06.010413Z",
     "iopub.status.busy": "2024-08-25T13:10:06.010089Z",
     "iopub.status.idle": "2024-08-25T13:10:06.230486Z",
     "shell.execute_reply": "2024-08-25T13:10:06.229641Z"
    },
    "id": "ph2SP1K_rsBM",
    "outputId": "a6d7d9e0-0385-47da-bd8c-a7807caa6db1",
    "papermill": {
     "duration": 0.237419,
     "end_time": "2024-08-25T13:10:06.232882",
     "exception": false,
     "start_time": "2024-08-25T13:10:05.995463",
     "status": "completed"
    },
    "tags": []
   },
   "outputs": [
    {
     "name": "stderr",
     "output_type": "stream",
     "text": [
      "/tmp/ipykernel_23/121643827.py:9: MatplotlibDeprecationWarning: The 'use_line_collection' parameter of stem() was deprecated in Matplotlib 3.6 and will be removed two minor releases later. If any parameter follows 'use_line_collection', they should be passed as keyword, not positionally.\n",
      "  plt.stem(x, pmf_values, use_line_collection=True)\n"
     ]
    },
    {
     "data": {
      "image/png": "[encoded data removed]",
      "text/plain": [
       "<Figure size 640x480 with 1 Axes>"
      ]
     },
     "metadata": {},
     "output_type": "display_data"
    }
   ],
   "source": [
    "import numpy as np\n",
    "# Possible values of X (number of successes)\n",
    "x = np.arange(0, n_trials + 1)\n",
    "\n",
    "# Calculate the PMF probabilities\n",
    "pmf_values = binom.pmf(x, n_trials, p)\n",
    "\n",
    "# Plotting the PMF\n",
    "plt.stem(x, pmf_values, use_line_collection=True)\n",
    "plt.xlabel('Number of Successes')\n",
    "plt.ylabel('Probability')\n",
    "plt.title('Binomial Distribution PMF (n=40, p=0.5)')\n",
    "plt.grid(True)\n",
    "plt.show()\n"
   ]
  },
  {
   "cell_type": "markdown",
   "id": "9def6bb3",
   "metadata": {
    "id": "3UwtGap_r-Ok",
    "papermill": {
     "duration": 0.015415,
     "end_time": "2024-08-25T13:10:06.263105",
     "exception": false,
     "start_time": "2024-08-25T13:10:06.247690",
     "status": "completed"
    },
    "tags": []
   },
   "source": [
    "This graph shows the probability of each specific number of successes occurring in 40 trials (with a probability of success of 0.5 for each trial).\n",
    "\n",
    "For example, the height of each bar in the graph represents the probability of a certain number of successes occurring (such as 20 successes out of 40 trials)."
   ]
  },
  {
   "cell_type": "code",
   "execution_count": 10,
   "id": "b310cc14",
   "metadata": {
    "execution": {
     "iopub.execute_input": "2024-08-25T13:10:06.293841Z",
     "iopub.status.busy": "2024-08-25T13:10:06.293004Z",
     "iopub.status.idle": "2024-08-25T13:10:06.503518Z",
     "shell.execute_reply": "2024-08-25T13:10:06.502603Z"
    },
    "id": "WY06TF53r4NA",
    "outputId": "07d54dc2-0f1f-4483-b89b-fe311539980b",
    "papermill": {
     "duration": 0.228155,
     "end_time": "2024-08-25T13:10:06.505504",
     "exception": false,
     "start_time": "2024-08-25T13:10:06.277349",
     "status": "completed"
    },
    "tags": []
   },
   "outputs": [
    {
     "data": {
      "image/png": "[encoded data removed]",
      "text/plain": [
       "<Figure size 640x480 with 1 Axes>"
      ]
     },
     "metadata": {},
     "output_type": "display_data"
    }
   ],
   "source": [
    "# Calculate the CDF probabilities\n",
    "cdf_values = binom.cdf(x, n_trials, p)\n",
    "\n",
    "# Plotting the CDF\n",
    "plt.subplot(1, 2, 2)  # Second plot\n",
    "plt.step(x, cdf_values, where='mid')\n",
    "plt.xlabel('Number of Successes')\n",
    "plt.ylabel('Cumulative Probability')\n",
    "plt.title('Binomial Distribution CDF (n=40, p=0.5)')\n",
    "plt.grid(True)\n",
    "\n",
    "plt.tight_layout()\n",
    "plt.show()\n"
   ]
  },
  {
   "cell_type": "markdown",
   "id": "6b29f454",
   "metadata": {
    "id": "n-qrtKr-sO66",
    "papermill": {
     "duration": 0.014698,
     "end_time": "2024-08-25T13:10:06.535370",
     "exception": false,
     "start_time": "2024-08-25T13:10:06.520672",
     "status": "completed"
    },
    "tags": []
   },
   "source": [
    "This graph shows the cumulative distribution function (CDF). This represents the probability that the number of successes is less than or equal to a particular value.\n",
    "\n",
    "For example, the CDF value at 20 indicates the probability that the number of successes is less than or equal to 20."
   ]
  },
  {
   "cell_type": "code",
   "execution_count": null,
   "id": "dbfff9fa",
   "metadata": {
    "id": "EEkdx8rMsPZe",
    "papermill": {
     "duration": 0.014584,
     "end_time": "2024-08-25T13:10:06.564805",
     "exception": false,
     "start_time": "2024-08-25T13:10:06.550221",
     "status": "completed"
    },
    "tags": []
   },
   "outputs": [],
   "source": []
  },
  {
   "cell_type": "markdown",
   "id": "0cd314b2",
   "metadata": {
    "id": "MOCAzcygsZsC",
    "papermill": {
     "duration": 0.014985,
     "end_time": "2024-08-25T13:10:06.594416",
     "exception": false,
     "start_time": "2024-08-25T13:10:06.579431",
     "status": "completed"
    },
    "tags": []
   },
   "source": [
    "**Geometric Distribution:**\n",
    "\n",
    "The geometric distribution tells us that if the probability of success in each trial is (p), the probability that the first success occurs on the (k)th trial is:\n",
    "\n",
    "$[\n",
    "P(X = k) = (1 - p)^{k-1} \\cdot p\n",
    "]$\n",
    "\n",
    "\n",
    "Here:\n",
    "\n",
    "    (X) is the number of trials until the first success.\n",
    "    (k) is the trial number (e.g., 1, 2, 3, etc.).\n",
    "    (p) is the probability of success in each trial.\n",
    "\n",
    "\n",
    "Properties of the Geometric Distribution\n",
    "\n",
    "* Mean: The mean (or average) number of trials until the first success is equal to $(\\frac{1}{p})$. So if your probability of success is 0.2, on average you would need to perform 5 trials to reach the first success.\n",
    "\n",
    "* Variance: The variance indicates how much the number of trials may deviate from the mean, and is equal to $(\\frac{1 - p}{p^2})$.\n",
    "\n",
    "\n",
    "Example\n",
    "\n",
    "Suppose the probability of success in a trial is 0.2 (i.e., (p = 0.2)). Now we want to know the probability that the first success occurs on the third trial:\n",
    "\n",
    "$[\n",
    "P(X = 3) = (1 - 0.2)^{3-1} \\cdot 0.2 = (0.8)^{2} \\cdot 0.2 = 0.64 \\cdot 0.2 = 0.128\n",
    "]$\n",
    "\n",
    "Therefore, the probability that the first success occurs on the third trial is 0.128."
   ]
  },
  {
   "cell_type": "code",
   "execution_count": 11,
   "id": "02c41d15",
   "metadata": {
    "execution": {
     "iopub.execute_input": "2024-08-25T13:10:06.625415Z",
     "iopub.status.busy": "2024-08-25T13:10:06.625046Z",
     "iopub.status.idle": "2024-08-25T13:10:06.630925Z",
     "shell.execute_reply": "2024-08-25T13:10:06.630041Z"
    },
    "id": "LIaf-CNBslXl",
    "outputId": "5e233182-3220-4a5d-f40b-730740e90a19",
    "papermill": {
     "duration": 0.024318,
     "end_time": "2024-08-25T13:10:06.633426",
     "exception": false,
     "start_time": "2024-08-25T13:10:06.609108",
     "status": "completed"
    },
    "tags": []
   },
   "outputs": [
    {
     "name": "stdout",
     "output_type": "stream",
     "text": [
      "The probability that the first success occurs on trial 3: 0.128\n"
     ]
    }
   ],
   "source": [
    "import scipy.stats as stats\n",
    "\n",
    "# Define the probability of success\n",
    "p = 0.2\n",
    "\n",
    "# The trial number for which we want to calculate the probability\n",
    "k = 3\n",
    "\n",
    "# Calculate the probability\n",
    "probability = stats.geom.pmf(k, p)\n",
    "\n",
    "print(f\"The probability that the first success occurs on trial {k}: {probability:.3f}\")\n"
   ]
  },
  {
   "cell_type": "code",
   "execution_count": 12,
   "id": "edd2a1b8",
   "metadata": {
    "execution": {
     "iopub.execute_input": "2024-08-25T13:10:06.665014Z",
     "iopub.status.busy": "2024-08-25T13:10:06.664651Z",
     "iopub.status.idle": "2024-08-25T13:10:07.441159Z",
     "shell.execute_reply": "2024-08-25T13:10:07.440261Z"
    },
    "id": "ASUSyVaxso1Y",
    "outputId": "06c89b27-4d06-4dfa-f58e-725f6c5af89c",
    "papermill": {
     "duration": 0.794938,
     "end_time": "2024-08-25T13:10:07.443651",
     "exception": false,
     "start_time": "2024-08-25T13:10:06.648713",
     "status": "completed"
    },
    "tags": []
   },
   "outputs": [
    {
     "data": {
      "image/png": "[encoded data removed]",
      "text/plain": [
       "<Figure size 1200x600 with 2 Axes>"
      ]
     },
     "metadata": {},
     "output_type": "display_data"
    }
   ],
   "source": [
    "import numpy as np\n",
    "import matplotlib.pyplot as plt\n",
    "import scipy.stats as stats\n",
    "\n",
    "# Define the probability of success\n",
    "p = 0.2\n",
    "\n",
    "# Define the range of k\n",
    "k_values = np.arange(1, 21)  # From 1 to 20\n",
    "\n",
    "# Calculate PMF and CDF\n",
    "pmf_values = stats.geom.pmf(k_values, p)\n",
    "cdf_values = stats.geom.cdf(k_values, p)\n",
    "\n",
    "# Plot PMF and CDF\n",
    "plt.figure(figsize=(12, 6))\n",
    "\n",
    "# PMF plot\n",
    "plt.subplot(1, 2, 1)\n",
    "plt.bar(k_values, pmf_values, color='skyblue', alpha=0.7, label='PMF')\n",
    "plt.title('Probability Mass Function (PMF)')\n",
    "plt.xlabel('Number of Trials (k)')\n",
    "plt.ylabel('Probability')\n",
    "plt.xticks(k_values)\n",
    "plt.grid(axis='y')\n",
    "plt.legend()\n",
    "\n",
    "# CDF plot\n",
    "plt.subplot(1, 2, 2)\n",
    "plt.step(k_values, cdf_values, where='post', color='orange', label='CDF')\n",
    "plt.title('Cumulative Distribution Function (CDF)')\n",
    "plt.xlabel('Number of Trials (k)')\n",
    "plt.ylabel('Cumulative Probability')\n",
    "plt.xticks(k_values)\n",
    "plt.grid()\n",
    "plt.legend()\n",
    "\n",
    "# Show the plots\n",
    "plt.tight_layout()\n",
    "plt.show()\n"
   ]
  },
  {
   "cell_type": "markdown",
   "id": "5946711d",
   "metadata": {
    "id": "ZYi-Q80-sdUB",
    "papermill": {
     "duration": 0.016664,
     "end_time": "2024-08-25T13:10:07.477177",
     "exception": false,
     "start_time": "2024-08-25T13:10:07.460513",
     "status": "completed"
    },
    "tags": []
   },
   "source": [
    "# continuous"
   ]
  },
  {
   "cell_type": "markdown",
   "id": "da9afc79",
   "metadata": {
    "id": "usN-mUwSs5n_",
    "papermill": {
     "duration": 0.018163,
     "end_time": "2024-08-25T13:10:07.513899",
     "exception": false,
     "start_time": "2024-08-25T13:10:07.495736",
     "status": "completed"
    },
    "tags": []
   },
   "source": [
    "\n",
    "Probability Density Function (PDF)\n",
    "\n",
    "For continuous variables, instead of the probability function (which is used for discrete variables), the Probability Density Function (PDF) is used. This function tells us the probability of occurrence of a specific value. However, we cannot directly calculate the probability of a specific value, as the probability of occurrence of an exact value in a continuous variable is equal to zero.\n",
    "\n",
    "The general formula of the Probability Density Function is as follows:\n",
    "\n",
    "$$f(x) = \\frac{d}{dx}F(x)$$\n",
    "\n",
    "  f(x) represents the derivative function\n",
    "  F(x) represents the original function, which results in the function f(x) when differentiated\n",
    "\n",
    "Properties of PDF:\n",
    "\n",
    "  * Non-negative value: For any value $x$, the value of the PDF must be non-negative:\n",
    "   $f(x) \\geq 0$\n",
    "\n",
    "  * Area under the curve: The area under the PDF curve over the entire domain of the variable must be equal to 1:\n",
    "   $\\int_{-\\infty}^{\\infty} f(x) dx = 1$\n",
    "\n",
    "* Probability in ranges: The probability that a random variable $X$ falls within a specific range $[a, b]$ can be calculated using the PDF as follows:\n",
    " $P(a \\leq X \\leq b) = \\int_{a}^{b} f(x) dx$\n",
    "\n",
    "Continuous Cumulative Distribution Function:\n",
    "\n",
    "The Cumulative Distribution Function (CDF) for continuous variables is a function that shows the probability that a continuous random variable $X$ is less than or equal to a specific value $x$. In other words, the CDF calculates the probability of occurrence of values less than or equal to $x$.\n",
    "\n",
    "Definition of Cumulative Distribution Function:\n",
    "\n",
    "For a continuous random variable $X$, the Cumulative Distribution Function is defined as:\n",
    "\n",
    "$F(x) = P(X \\leq x)$\n",
    "\n",
    "Formula of Cumulative Distribution Function:\n",
    "\n",
    "For continuous variables, the Cumulative Distribution Function can be calculated using the Probability Density Function (PDF) $f(x)$. The formula is as follows:\n",
    "\n",
    "$F(x) = \\int_{-\\infty}^{x} f(t) dt$\n",
    "\n",
    "Properties of Continuous Cumulative Distribution:\n",
    "\n",
    "$F(+\\infty) = P(\\{X \\leq +\\infty\\}) = 1$\n",
    "\n",
    "$F(-\\infty) = P(\\{X \\leq -\\infty\\}) = 0$\n",
    "\n",
    "$x_1 \\leq x_2 \\Rightarrow F(x_1) \\leq F(x_2)$\n",
    "\n",
    "$P(\\{X > x\\}) = 1 - F(x)$\n",
    "\n",
    "$P(\\{x_1 < x \\leq x_2\\}) = F(x_2) - F(x_1)$\n",
    "\n",
    "\n",
    "\n",
    "\n",
    "**Applications of Probability Density Function (PDF) and Cumulative Distribution Function (CDF)**\n",
    "\n",
    "The Probability Density Function (PDF) and Cumulative Distribution Function (CDF) are key tools in statistics and data analysis. These functions help us understand the behavior of continuous random variables and have applications in various fields, including statistics, machine learning, and data science. Below are some of these applications:\n",
    "1. Statistics\n",
    "\n",
    "    Data Analysis: PDF and CDF help researchers and data analysts understand the distribution of their data. By using the PDF, they can identify strengths and weaknesses in the data distribution.\n",
    "    Hypothesis Testing: In statistical tests, PDF and CDF are used to calculate the probability of specific outcomes and evaluate hypotheses. For example, in a t-test, the CDF is used to determine the probability of observing a specific t-value.\n",
    "    Distribution Modeling: Researchers can use PDF and CDF to model the distributions of various data (such as normal distribution, exponential distribution, etc.) and compare these distributions with real data.\n",
    "\n",
    "2. Machine Learning\n",
    "\n",
    "    Probability Modeling: In machine learning, PDF and CDF are used to model the probability distribution of features and outputs. For instance, in classification models, the probability of a sample belonging to a specific class is calculated using the PDF.\n",
    "    Threshold Determination: In binary classification problems, the CDF can be used to determine a threshold based on which a sample is assigned to a specific class.\n",
    "    Simulation and Prediction: In predictive modeling, PDF and CDF can be used to simulate potential outcomes and calculate the probability of a specific outcome occurring.\n",
    "\n",
    "\n",
    "</div>\n"
   ]
  },
  {
   "cell_type": "markdown",
   "id": "b032d367",
   "metadata": {
    "id": "TYY3blp9tZr5",
    "papermill": {
     "duration": 0.01582,
     "end_time": "2024-08-25T13:10:07.546933",
     "exception": false,
     "start_time": "2024-08-25T13:10:07.531113",
     "status": "completed"
    },
    "tags": []
   },
   "source": [
    "\n",
    "**Definition of Expected Value in Continuous Probability Variables:**\n",
    "\n",
    "For a continuous random variable (X) with probability density function (f(x)), the expected value (E(X)) is defined as follows:\n",
    "\n",
    "$[\n",
    "E(X) = \\int_{-\\infty}^{\\infty} x \\cdot f(x) , dx\n",
    "]$\n",
    "\n",
    "\n",
    "\n",
    "Theoretical Example\n",
    "\n",
    "Suppose we have a continuous random variable (X) with the following probability density function:\n",
    "\n",
    "$[\n",
    "f(x) = \\begin{cases}\n",
    "\\frac{1}{3} & \\text{for } 0 \\leq x \\leq 3 \\\n",
    "0 & \\text{otherwise}\n",
    "\\end{cases}\n",
    "]$\n",
    "Calculating the Expected Value $( E(X) )$\n",
    "\n",
    "To calculate the expected value $( E(X) )$:\n",
    "\n",
    "    Set up the integral:\n",
    "\n",
    "$[\n",
    "E(X) = \\int_{0}^{3} x \\cdot \\frac{1}{3} , dx\n",
    "]$\n",
    "\n",
    "    Evaluate the integral:\n",
    "\n",
    "$[\n",
    "E(X) = \\frac{1}{3} \\int_{0}^{3} x , dx = \\frac{1}{3} \\left[ \\frac{x^2}{2} \\right]_{0}^{3} = \\frac{1}{3} \\cdot \\frac{9}{2} = \\frac{3}{2} = 1.5\n",
    "]$\n",
    "\n",
    "Conclusion: Therefore, the expected value (E(X) = 1.5)."
   ]
  },
  {
   "cell_type": "code",
   "execution_count": 13,
   "id": "aa2d76f8",
   "metadata": {
    "execution": {
     "iopub.execute_input": "2024-08-25T13:10:07.581765Z",
     "iopub.status.busy": "2024-08-25T13:10:07.581400Z",
     "iopub.status.idle": "2024-08-25T13:10:07.588364Z",
     "shell.execute_reply": "2024-08-25T13:10:07.587302Z"
    },
    "id": "KjXPhLO8tg2z",
    "outputId": "ac0e0743-ad3c-4c72-f03d-8b7508f62745",
    "papermill": {
     "duration": 0.027051,
     "end_time": "2024-08-25T13:10:07.590308",
     "exception": false,
     "start_time": "2024-08-25T13:10:07.563257",
     "status": "completed"
    },
    "tags": []
   },
   "outputs": [
    {
     "name": "stdout",
     "output_type": "stream",
     "text": [
      "The expected value E(X) is: 1.4999999999999998\n"
     ]
    }
   ],
   "source": [
    "import numpy as np\n",
    "from scipy.integrate import quad\n",
    "\n",
    "# Probability density function\n",
    "def f(x):\n",
    "    return 1/3 if 0 <= x <= 3 else 0\n",
    "\n",
    "# Function to calculate E(X)\n",
    "def integrand(x):\n",
    "    return x * f(x)\n",
    "\n",
    "# Calculate expected value\n",
    "E_X, _ = quad(integrand, 0, 3)\n",
    "\n",
    "print(f\"The expected value E(X) is: {E_X}\")\n"
   ]
  },
  {
   "cell_type": "markdown",
   "id": "b3fe063a",
   "metadata": {
    "id": "wyEreYHht_TL",
    "papermill": {
     "duration": 0.015731,
     "end_time": "2024-08-25T13:10:07.622432",
     "exception": false,
     "start_time": "2024-08-25T13:10:07.606701",
     "status": "completed"
    },
    "tags": []
   },
   "source": [
    "\n",
    "Definition of Probability Density Function: The function $f(x)$ returns the value of the probability density function.\n",
    "\n",
    "Definition of Integrand Function: The function integrand(x) calculates the value of $(x * f(x))$.\n",
    "\n",
    "Calculating the Integral: The quad function is used to calculate the integral, which computes the value of the expected value."
   ]
  },
  {
   "cell_type": "markdown",
   "id": "c1bc6726",
   "metadata": {
    "id": "tEPBbH4puApb",
    "papermill": {
     "duration": 0.015459,
     "end_time": "2024-08-25T13:10:07.653738",
     "exception": false,
     "start_time": "2024-08-25T13:10:07.638279",
     "status": "completed"
    },
    "tags": []
   },
   "source": [
    "\n",
    "**Definition of Variance:**\n",
    "\n",
    "For a continuous random variable (X) with probability density function (f(x)) and expected value (E(X)), the variance (Var(X)) is defined as follows:\n",
    "\n",
    "$[\n",
    "Var(X) = E(X^2) - (E(X))^2\n",
    "]$\n",
    "Steps to Calculate Variance\n",
    "\n",
    "1. Calculate the expected value (E(X)): First, calculate the expected value of the random variable (X).\n",
    "\n",
    "2. Calculate (E(X^2)): Next, calculate the expected value (E(X^2)). This value is calculated as follows:\n",
    "\n",
    "$[\n",
    "E(X^2) = \\int_{-\\infty}^{\\infty} x^2 \\cdot f(x) , dx\n",
    "]$\n",
    "\n",
    "\n",
    "\n",
    "     \n",
    "\n",
    "Example\n",
    "\n",
    "Suppose we have a continuous random variable (X) with the following probability density function:\n",
    "\n",
    "$[\n",
    "f(x) = \\begin{cases}\n",
    "\\frac{1}{4} & \\text{for } 0 \\leq x \\leq 4 \\\n",
    "0 & \\text{otherwise}\n",
    "\\end{cases}\n",
    "]$\n",
    "Calculating the Expected Value (E(X))\n",
    "\n",
    "    Calculating (E(X)):\n",
    "\n",
    "$[\n",
    "E(X) = \\int_{0}^{4} x \\cdot \\frac{1}{4} , dx = \\frac{1}{4} \\left[ \\frac{x^2}{2} \\right]_{0}^{4} = \\frac{1}{4} \\cdot \\frac{16}{2} = 2\n",
    "]$\n",
    "Calculating (E(X^2))\n",
    "\n",
    "    Calculating (E(X^2)):\n",
    "\n",
    "[$\n",
    "E(X^2) = \\int_{0}^{4} x^2 \\cdot \\frac{1}{4} , dx = \\frac{1}{4} \\left[ \\frac{x^3}{3} \\right]_{0}^{4} = \\frac{1}{4} \\cdot \\frac{64}{3} = \\frac{16}{3}\n",
    "]$\n",
    "Calculating the Variance\n",
    "\n",
    "    Calculating the Variance:\n",
    "\n",
    "$[\n",
    "Var(X) = E(X^2) - (E(X))^2 = \\frac{16}{3} - (2)^2 = \\frac{16}{3} - 4 = \\frac{16}{3} - \\frac{12}{3} = \\frac{4}{3}\n",
    "]$\n",
    "Conclusion\n",
    "\n",
    "Therefore, the variance $( Var(X) = \\frac{4}{3} )$ is the result."
   ]
  },
  {
   "cell_type": "code",
   "execution_count": 14,
   "id": "08ddca96",
   "metadata": {
    "execution": {
     "iopub.execute_input": "2024-08-25T13:10:07.687071Z",
     "iopub.status.busy": "2024-08-25T13:10:07.686428Z",
     "iopub.status.idle": "2024-08-25T13:10:07.694760Z",
     "shell.execute_reply": "2024-08-25T13:10:07.693749Z"
    },
    "id": "XhrCouhHu6iK",
    "outputId": "adc56c1b-f367-4c61-9ce7-78f87471c8a3",
    "papermill": {
     "duration": 0.027464,
     "end_time": "2024-08-25T13:10:07.696768",
     "exception": false,
     "start_time": "2024-08-25T13:10:07.669304",
     "status": "completed"
    },
    "tags": []
   },
   "outputs": [
    {
     "name": "stdout",
     "output_type": "stream",
     "text": [
      "The expected value E(X) is: 2.0\n",
      "E(X^2) is: 5.333333333333334\n",
      "The variance Var(X) is: 1.333333333333334\n"
     ]
    }
   ],
   "source": [
    "import numpy as np\n",
    "from scipy.integrate import quad\n",
    "\n",
    "# Probability density function\n",
    "def f(x):\n",
    "    return 1/4 if 0 <= x <= 4 else 0\n",
    "\n",
    "# Function to calculate E(X)\n",
    "def integrand(x):\n",
    "    return x * f(x)\n",
    "\n",
    "# Function to calculate E(X^2)\n",
    "def integrand_squared(x):\n",
    "    return x**2 * f(x)\n",
    "\n",
    "# Calculate the expected value E(X)\n",
    "E_X, _ = quad(integrand, 0, 4)\n",
    "\n",
    "# Calculate E(X^2)\n",
    "E_X_squared, _ = quad(integrand_squared, 0, 4)\n",
    "\n",
    "# Calculate variance\n",
    "variance = E_X_squared - E_X**2\n",
    "\n",
    "print(f\"The expected value E(X) is: {E_X}\")\n",
    "print(f\"E(X^2) is: {E_X_squared}\")\n",
    "print(f\"The variance Var(X) is: {variance}\")\n"
   ]
  },
  {
   "cell_type": "markdown",
   "id": "0f328bfe",
   "metadata": {
    "id": "vjwFWiFLvHcA",
    "papermill": {
     "duration": 0.015532,
     "end_time": "2024-08-25T13:10:07.728042",
     "exception": false,
     "start_time": "2024-08-25T13:10:07.712510",
     "status": "completed"
    },
    "tags": []
   },
   "source": [
    "Defining the Probability Density Function: The function `f(x)` returns the value of the probability density function.\n",
    "\n",
    "Defining the Integrand Functions: The function `integrand(x)` calculates the value of `(x * f(x))`, and the function `integrand_squared(x)` calculates the value of `(x^2 * f(x))`.\n",
    "\n",
    "Calculating the Integrals: The `quad` function is used to compute the integrals.\n",
    "\n",
    "Calculating the Variance: The variance is calculated using the formula.\n",
    "Printing the Results: Finally, the results are printed."
   ]
  },
  {
   "cell_type": "markdown",
   "id": "bbbf867e",
   "metadata": {
    "id": "Q3X0uMbDvT21",
    "papermill": {
     "duration": 0.016273,
     "end_time": "2024-08-25T13:10:07.759803",
     "exception": false,
     "start_time": "2024-08-25T13:10:07.743530",
     "status": "completed"
    },
    "tags": []
   },
   "source": [
    "\n",
    "**Continuous Uniform Distribution**\n",
    "\n",
    "In a continuous uniform distribution, the random variable can take any value within a specified range. If (X) is a continuous random variable with a range ([a, b]), the probability density function is defined as follows:\n",
    "\n",
    "$[\n",
    "f(x) = \\begin{cases}\n",
    "\\frac{1}{b-a} & \\text{for } a \\leq x \\leq b \\\n",
    "0 & \\text{otherwise}\n",
    "\\end{cases}\n",
    "]$\n",
    "\n",
    "Properties of the Continuous Uniform Distribution\n",
    "\n",
    "    Expectation:\n",
    " $[\n",
    "E(X) = \\frac{a + b}{2}\n",
    " ]$\n",
    "\n",
    "  Variance:\n",
    "\n",
    " $[\n",
    "Var(X) = \\frac{(b - a)^2}{12}\n",
    " ]$\n",
    "\n",
    " Cumulative Distribution Function (CDF):\n",
    "\n",
    "The cumulative distribution function $( F(x) )$ for the continuous uniform distribution is defined as follows:\n",
    "\n",
    "$[\n",
    " F(x) = \\begin{cases}\n",
    "0 & \\text{for } x < a \\\n",
    " \\frac{x - a}{b - a} & \\text{for } a \\leq x < b \\\n",
    " 1 & \\text{for } x \\geq b\n",
    " \\end{cases}\n",
    "]$\n",
    "\n",
    "\n",
    "Example\n",
    "\n",
    "Suppose a random variable $( X )$ is uniformly distributed in the range $([2, 6])$.\n",
    "\n",
    "Calculating the Expectation:\n",
    "\n",
    "$[\n",
    " E(X) = \\frac{2 + 6}{2} = 4\n",
    "]$\n",
    "\n",
    "Calculating the Variance:\n",
    " $[\n",
    "Var(X) = \\frac{(6 - 2)^2}{12} = \\frac{16}{12} = \\frac{4}{3}\n",
    "]$\n",
    "\n",
    "Calculating the Cumulative Distribution Function:\n",
    "\n",
    " For $( x < 2 ): ( F(x) = 0 )$\n",
    "\n",
    "For $( 2 \\leq x < 6 ): ( F(x) = \\frac{x - 2}{4} )$\n",
    "\n",
    " For $( x \\geq 6 ): ( F(x) = 1 )$"
   ]
  },
  {
   "cell_type": "code",
   "execution_count": 15,
   "id": "3a7b98e3",
   "metadata": {
    "execution": {
     "iopub.execute_input": "2024-08-25T13:10:07.834459Z",
     "iopub.status.busy": "2024-08-25T13:10:07.833815Z",
     "iopub.status.idle": "2024-08-25T13:10:08.534449Z",
     "shell.execute_reply": "2024-08-25T13:10:08.533518Z"
    },
    "id": "o3tIu2aSvgS4",
    "outputId": "baea2816-9813-4681-8069-d63bc0216955",
    "papermill": {
     "duration": 0.720276,
     "end_time": "2024-08-25T13:10:08.537023",
     "exception": false,
     "start_time": "2024-08-25T13:10:07.816747",
     "status": "completed"
    },
    "tags": []
   },
   "outputs": [
    {
     "data": {
      "image/png": "[encoded data removed]",
      "text/plain": [
       "<Figure size 1200x600 with 2 Axes>"
      ]
     },
     "metadata": {},
     "output_type": "display_data"
    }
   ],
   "source": [
    "import numpy as np\n",
    "import matplotlib.pyplot as plt\n",
    "\n",
    "# Parameters for the uniform distribution\n",
    "a = 2\n",
    "b = 6\n",
    "\n",
    "# Define the probability density function\n",
    "def uniform_pdf(x):\n",
    "    return 1 / (b - a) if a <= x <= b else 0\n",
    "\n",
    "# Define the cumulative distribution function\n",
    "def uniform_cdf(x):\n",
    "    if x < a:\n",
    "        return 0\n",
    "    elif a <= x < b:\n",
    "        return (x - a) / (b - a)\n",
    "    else:\n",
    "        return 1\n",
    "\n",
    "# Generate values for plotting\n",
    "x_values = np.linspace(1, 7, 100)\n",
    "pdf_values = [uniform_pdf(x) for x in x_values]\n",
    "cdf_values = [uniform_cdf(x) for x in x_values]\n",
    "\n",
    "# Plot the probability density function\n",
    "plt.figure(figsize=(12, 6))\n",
    "\n",
    "plt.subplot(1, 2, 1)\n",
    "plt.plot(x_values, pdf_values, label='PDF', color='blue')\n",
    "plt.title('Probability Density Function (PDF)')\n",
    "plt.xlabel('x')\n",
    "plt.ylabel('f(x)')\n",
    "plt.axvline(a, color='red', linestyle='--', label='a = 2')\n",
    "plt.axvline(b, color='green', linestyle='--', label='b = 6')\n",
    "plt.legend()\n",
    "plt.grid()\n",
    "\n",
    "# Plot the cumulative distribution function\n",
    "plt.subplot(1, 2, 2)\n",
    "plt.plot(x_values, cdf_values, label='CDF', color='orange')\n",
    "plt.title('Cumulative Distribution Function (CDF)')\n",
    "plt.xlabel('x')\n",
    "plt.ylabel('F(x)')\n",
    "plt.axvline(a, color='red', linestyle='--', label='a = 2')\n",
    "plt.axvline(b, color='green', linestyle='--', label='b = 6')\n",
    "plt.legend()\n",
    "plt.grid()\n",
    "\n",
    "plt.tight_layout()\n",
    "plt.show()\n"
   ]
  },
  {
   "cell_type": "markdown",
   "id": "2a35727e",
   "metadata": {
    "id": "t_kSenYAv1Fr",
    "papermill": {
     "duration": 0.016371,
     "end_time": "2024-08-25T13:10:08.570383",
     "exception": false,
     "start_time": "2024-08-25T13:10:08.554012",
     "status": "completed"
    },
    "tags": []
   },
   "source": [
    "The functions uniform_pdf and uniform_cdf are defined to calculate the probability density function and the cumulative distribution function."
   ]
  },
  {
   "cell_type": "markdown",
   "id": "55e071f3",
   "metadata": {
    "id": "fadIKpUiv_Q-",
    "papermill": {
     "duration": 0.019127,
     "end_time": "2024-08-25T13:10:08.609461",
     "exception": false,
     "start_time": "2024-08-25T13:10:08.590334",
     "status": "completed"
    },
    "tags": []
   },
   "source": [
    "**Normal Distribution:**\n",
    "\n",
    "The normal distribution, also known as the Gaussian distribution, is one of the most important distributions in probability theory and statistics. Due to its unique characteristics, this distribution is widely used in various fields, including social sciences, natural sciences, and engineering.\n",
    "\n",
    "Two main parameters:\n",
    "\n",
    "* Mean (μ): The central location of the distribution.\n",
    "* Standard deviation (σ): The spread or variability of the data.\n",
    "\n",
    "Probability Density Function (PDF): The probability density function for the normal distribution is defined as:\n",
    "\n",
    "$[\n",
    "f(x) = \\frac{1}{\\sigma \\sqrt{2\\pi}} e^{-\\frac{(x - \\mu)^2}{2\\sigma^2}}\n",
    "]$\n",
    "\n",
    "Cumulative Distribution Function (CDF): The cumulative distribution function for the normal distribution is defined as:\n",
    "\n",
    "$[\n",
    "F(x) = P(X \\leq x) = \\int_{-\\infty}^{x} f(t) , dt\n",
    "]$\n",
    "\n",
    "Key Properties:\n",
    "\n",
    "- Central Limit Theorem: This theorem states that the normal distribution closely approximates the distribution of any random variable under certain conditions, regardless of the original distribution.\n",
    "- 68-95-99.7 Rule: Approximately 68% of the data lies within one standard deviation from the mean, 95% within two standard deviations, and 99.7% within three standard deviations from the mean."
   ]
  },
  {
   "cell_type": "code",
   "execution_count": 16,
   "id": "528bde33",
   "metadata": {
    "execution": {
     "iopub.execute_input": "2024-08-25T13:10:08.644636Z",
     "iopub.status.busy": "2024-08-25T13:10:08.643770Z",
     "iopub.status.idle": "2024-08-25T13:10:09.274609Z",
     "shell.execute_reply": "2024-08-25T13:10:09.273657Z"
    },
    "id": "NolWkOzpv2M8",
    "outputId": "de1db85f-7813-4c11-8d55-1ea397b068ad",
    "papermill": {
     "duration": 0.650636,
     "end_time": "2024-08-25T13:10:09.276840",
     "exception": false,
     "start_time": "2024-08-25T13:10:08.626204",
     "status": "completed"
    },
    "tags": []
   },
   "outputs": [
    {
     "data": {
      "image/png": "[encoded data removed]",
      "text/plain": [
       "<Figure size 1200x600 with 2 Axes>"
      ]
     },
     "metadata": {},
     "output_type": "display_data"
    }
   ],
   "source": [
    "import numpy as np\n",
    "import matplotlib.pyplot as plt\n",
    "from scipy.stats import norm\n",
    "\n",
    "# Parameters of the normal distribution\n",
    "mu = 100  # Mean\n",
    "sigma = 15  # Standard deviation\n",
    "\n",
    "# Generate values for plotting\n",
    "x_values = np.linspace(mu - 4*sigma, mu + 4*sigma, 1000)\n",
    "\n",
    "# Calculate the probability density function (PDF)\n",
    "pdf_values = norm.pdf(x_values, mu, sigma)\n",
    "\n",
    "# Calculate the cumulative distribution function (CDF)\n",
    "cdf_values = norm.cdf(x_values, mu, sigma)\n",
    "\n",
    "# Plot the probability density function\n",
    "plt.figure(figsize=(12, 6))\n",
    "\n",
    "# Plot PDF\n",
    "plt.subplot(1, 2, 1)\n",
    "plt.plot(x_values, pdf_values, label='PDF', color='blue')\n",
    "plt.title('Probability Density Function (PDF) for Normal Distribution')\n",
    "plt.xlabel('x')\n",
    "plt.ylabel('f(x)')\n",
    "plt.axvline(mu, color='red', linestyle='--', label='Mean (μ)')\n",
    "plt.legend()\n",
    "plt.grid()\n",
    "\n",
    "# Plot CDF\n",
    "plt.subplot(1, 2, 2)\n",
    "plt.plot(x_values, cdf_values, label='CDF', color='orange')\n",
    "plt.title('Cumulative Distribution Function (CDF) for Normal Distribution')\n",
    "plt.xlabel('x')\n",
    "plt.ylabel('F(x)')\n",
    "plt.axvline(mu, color='red', linestyle='--', label='Mean (μ)')\n",
    "plt.legend()\n",
    "plt.grid()\n",
    "\n",
    "plt.tight_layout()\n",
    "plt.show()\n"
   ]
  },
  {
   "cell_type": "markdown",
   "id": "804290cd",
   "metadata": {
    "id": "V08_81AOw7jG",
    "papermill": {
     "duration": 0.018054,
     "end_time": "2024-08-25T13:10:09.313066",
     "exception": false,
     "start_time": "2024-08-25T13:10:09.295012",
     "status": "completed"
    },
    "tags": []
   },
   "source": [
    "\n",
    "The standard normal distribution (Standard Normal Distribution) is a special case of the normal distribution where the mean (μ) is equal to zero and the standard deviation (σ) is equal to one. In other words, the standard normal distribution is represented as (Z ~ N(0, 1)).\n",
    "\n",
    "Properties of the Standard Normal Distribution:\n",
    "\n",
    "- Mean and Standard Deviation:\n",
    "  - μ = 0\n",
    "  - σ = 1\n",
    "\n",
    "- Probability Density Function (PDF):\n",
    "  The probability density function for the standard normal distribution is as follows:\n",
    "\n",
    "  $[\n",
    "  f(z) = \\frac{1}{\\sqrt{2\\pi}} e^{-\\frac{z^2}{2}}\n",
    "  ]$\n",
    "\n",
    "  Where $z$ is the standard normal random variable.\n",
    "\n",
    "- Cumulative Distribution Function (CDF):\n",
    "  The cumulative distribution function for the standard normal distribution is as follows:\n",
    "\n",
    "  $[\n",
    "  F(z) = P(Z \\leq z) = \\int_{-\\infty}^{z} f(t) , dt\n",
    "  ]$\n",
    "\n",
    "Transformation to the Standard Normal Distribution:\n",
    "\n",
    "Any normal distribution $(X \\sim N(\\mu, \\sigma^2))$ can be transformed to the standard normal distribution. For this, the following formula is used:\n",
    "\n",
    "$[\n",
    "Z = \\frac{X - \\mu}{\\sigma}\n",
    "]$\n",
    "\n",
    "Where:\n",
    "- $Z$ is the standard normal random variable\n",
    "- $X$ is the normal random variable with mean $\\mu$ and standard deviation $\\sigma$\n",
    "\n",
    "Example:\n",
    "\n",
    "Suppose a random variable $X$ is normally distributed with mean $\\mu = 100$ and standard deviation $\\sigma = 15$. To calculate the probability that $X$ is less than 120, we first need to transform it to the standard normal distribution:\n",
    "\n",
    "Calculating $Z$:\n",
    "$[\n",
    "Z = \\frac{120 - 100}{15} = \\frac{20}{15} \\approx 1.33\n",
    "]$\n",
    "\n",
    "Using the Standard Normal Distribution Table: To calculate $P(X < 120)$, we can use the standard normal distribution table or statistical software."
   ]
  },
  {
   "cell_type": "code",
   "execution_count": 17,
   "id": "a64b63cf",
   "metadata": {
    "execution": {
     "iopub.execute_input": "2024-08-25T13:10:09.352219Z",
     "iopub.status.busy": "2024-08-25T13:10:09.351842Z",
     "iopub.status.idle": "2024-08-25T13:10:09.907432Z",
     "shell.execute_reply": "2024-08-25T13:10:09.906524Z"
    },
    "id": "ps4KSyL7xHAn",
    "outputId": "2a7d0d46-c83a-41f4-cbab-a14b9f3503c0",
    "papermill": {
     "duration": 0.577866,
     "end_time": "2024-08-25T13:10:09.910052",
     "exception": false,
     "start_time": "2024-08-25T13:10:09.332186",
     "status": "completed"
    },
    "tags": []
   },
   "outputs": [
    {
     "data": {
      "image/png": "[encoded data removed]",
      "text/plain": [
       "<Figure size 1200x600 with 2 Axes>"
      ]
     },
     "metadata": {},
     "output_type": "display_data"
    }
   ],
   "source": [
    "import numpy as np\n",
    "import matplotlib.pyplot as plt\n",
    "from scipy.stats import norm\n",
    "\n",
    "# Parameters for the standard normal distribution\n",
    "mu = 0  # Mean\n",
    "sigma = 1  # Standard deviation\n",
    "\n",
    "# Generate values for plotting\n",
    "z_values = np.linspace(-4, 4, 1000)\n",
    "\n",
    "# Calculate the probability density function (PDF) for the standard normal distribution\n",
    "pdf_values = norm.pdf(z_values, mu, sigma)\n",
    "\n",
    "# Calculate the cumulative distribution function (CDF) for the standard normal distribution\n",
    "cdf_values = norm.cdf(z_values, mu, sigma)\n",
    "\n",
    "# Plot the probability density function\n",
    "plt.figure(figsize=(12, 6))\n",
    "\n",
    "# Plot PDF\n",
    "plt.subplot(1, 2, 1)\n",
    "plt.plot(z_values, pdf_values, label='PDF', color='blue')\n",
    "plt.title('Probability Density Function (PDF) for the Standard Normal Distribution')\n",
    "plt.xlabel('z')\n",
    "plt.ylabel('f(z)')\n",
    "plt.axvline(mu, color='red', linestyle='--', label='Mean (μ = 0)')\n",
    "plt.legend()\n",
    "plt.grid()\n",
    "\n",
    "# Plot CDF\n",
    "plt.subplot(1, 2, 2)\n",
    "plt.plot(z_values, cdf_values, label='CDF', color='orange')\n",
    "plt.title('Cumulative Distribution Function (CDF) for the Standard Normal Distribution')\n",
    "plt.xlabel('z')\n",
    "plt.ylabel('F(z)')\n",
    "plt.axvline(mu, color='red', linestyle='--', label='Mean (μ = 0)')\n",
    "plt.legend()\n",
    "plt.grid()\n",
    "\n",
    "plt.tight_layout()\n",
    "plt.show()\n"
   ]
  }
 ],
 "metadata": {
  "colab": {
   "collapsed_sections": [
    "jMyV6GDJCLaU"
   ],
   "provenance": []
  },
  "kaggle": {
   "accelerator": "gpu",
   "dataSources": [],
   "dockerImageVersionId": 30762,
   "isGpuEnabled": true,
   "isInternetEnabled": true,
   "language": "python",
   "sourceType": "notebook"
  },
  "kernelspec": {
   "display_name": "Python 3",
   "language": "python",
   "name": "python3"
  },
  "language_info": {
   "codemirror_mode": {
    "name": "ipython",
    "version": 3
   },
   "file_extension": ".py",
   "mimetype": "text/x-python",
   "name": "python",
   "nbconvert_exporter": "python",
   "pygments_lexer": "ipython3",
   "version": "3.10.14"
  },
  "papermill": {
   "default_parameters": {},
   "duration": 9.165309,
   "end_time": "2024-08-25T13:10:10.248379",
   "environment_variables": {},
   "exception": null,
   "input_path": "__notebook__.ipynb",
   "output_path": "__notebook__.ipynb",
   "parameters": {},
   "start_time": "2024-08-25T13:10:01.083070",
   "version": "2.6.0"
  }
 },
 "nbformat": 4,
 "nbformat_minor": 5
}
